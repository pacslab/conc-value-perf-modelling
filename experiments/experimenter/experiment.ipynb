{
 "cells": [
  {
   "cell_type": "markdown",
   "metadata": {},
   "source": [
    "# Experimenting With APIs\n",
    "\n",
    "In this notebook, we will be experimenting with the APIs and create helper functions."
   ]
  },
  {
   "cell_type": "code",
   "execution_count": 1,
   "metadata": {
    "execution": {
     "iopub.execute_input": "2021-01-22T02:57:36.291674Z",
     "iopub.status.busy": "2021-01-22T02:57:36.289785Z",
     "iopub.status.idle": "2021-01-22T02:57:36.628875Z",
     "shell.execute_reply": "2021-01-22T02:57:36.629688Z"
    }
   },
   "outputs": [],
   "source": [
    "# general imports\n",
    "import time\n",
    "import re\n",
    "from collections import namedtuple, deque\n",
    "import random\n",
    "import copy\n",
    "from datetime import datetime\n",
    "import pytz\n",
    "import os\n",
    "\n",
    "my_timezone = os.getenv('PY_TZ', 'America/Toronto')\n",
    "\n",
    "# library imports\n",
    "import requests\n",
    "from tqdm.auto import tqdm\n",
    "import pandas as pd\n",
    "import numpy as np\n",
    "\n",
    "# my library imports\n",
    "from pacswg.timer import TimerClass\n",
    "import pacswg\n",
    "\n",
    "# my imports\n",
    "from helpers import kube\n",
    "from helpers import workload"
   ]
  },
  {
   "cell_type": "markdown",
   "metadata": {},
   "source": [
    "## Kubernetes API\n",
    "\n",
    "We use the kubernetes API to fetch the current status of each deployment and see how many instances they have."
   ]
  },
  {
   "cell_type": "code",
   "execution_count": 2,
   "metadata": {
    "execution": {
     "iopub.execute_input": "2021-01-22T02:57:36.635251Z",
     "iopub.status.busy": "2021-01-22T02:57:36.634261Z",
     "iopub.status.idle": "2021-01-22T02:57:37.653652Z",
     "shell.execute_reply": "2021-01-22T02:57:37.654506Z"
    },
    "tags": []
   },
   "outputs": [
    {
     "output_type": "stream",
     "name": "stdout",
     "text": [
      "starting watch thread...\n"
     ]
    },
    {
     "output_type": "execute_result",
     "data": {
      "text/plain": [
       "{'kind': 'Deployment',\n",
       " 'replicas': 0,\n",
       " 'ready_replicas': 0,\n",
       " 'last_update': 1611411975.519756}"
      ]
     },
     "metadata": {},
     "execution_count": 2
    }
   ],
   "source": [
    "# start watch thread\n",
    "kube.start_watch_thread()\n",
    "# print details of a deployment\n",
    "# print(kube.live_deployments['helloworld-go-00001-deployment'])\n",
    "# fetch a list of all knative deployments\n",
    "# print(kube.get_knative_deployments())\n",
    "# fetch latest revisions only\n",
    "\n",
    "def get_knative_watch_info(kn_deploy_name):\n",
    "    kn_latest_revs = kube.get_kn_latest_revs()\n",
    "    if kn_deploy_name not in kn_latest_revs:\n",
    "        return None\n",
    "    bench_deployment = kn_latest_revs[kn_deploy_name]\n",
    "    return kube.live_deployments[bench_deployment.deployment]\n",
    "\n",
    "get_knative_watch_info('bench1')"
   ]
  },
  {
   "cell_type": "markdown",
   "metadata": {},
   "source": [
    "## Deploying On Knative\n",
    "\n",
    "In this section, we will develop the functionality to deploy a given workload to **knative** using the `kn` CLI.\n",
    "The other options were using [CRDs](https://stackoverflow.com/questions/61384188/how-to-deploy-a-knative-service-with-kubernetes-python-client-library),\n",
    "or using [kubectl apply](https://developers.redhat.com/coderland/serverless/deploying-serverless-knative#invoking_your_service_from_the_command_line)\n",
    "but `kn` seems to be more powerful."
   ]
  },
  {
   "cell_type": "code",
   "execution_count": 3,
   "metadata": {
    "execution": {
     "iopub.execute_input": "2021-01-22T02:57:37.659178Z",
     "iopub.status.busy": "2021-01-22T02:57:37.658372Z",
     "iopub.status.idle": "2021-01-22T02:57:38.510743Z",
     "shell.execute_reply": "2021-01-22T02:57:38.509766Z"
    }
   },
   "outputs": [
    {
     "output_type": "stream",
     "name": "stdout",
     "text": [
      "NAME            URL                                            LATEST                AGE   CONDITIONS   READY   REASON\nbench1          http://bench1.default.kn.nima-dev.com          bench1-00001          18h   3 OK / 3     True    \nhelloworld-go   http://helloworld-go.default.kn.nima-dev.com   helloworld-go-00001   45h   3 OK / 3     True    \n"
     ]
    }
   ],
   "source": [
    "# making sure kn is set up correctly\n",
    "!kn service ls"
   ]
  },
  {
   "cell_type": "code",
   "execution_count": 4,
   "metadata": {},
   "outputs": [
    {
     "output_type": "stream",
     "name": "stdout",
     "text": [
      "kn service apply bench1 --image ghcr.io/nimamahmoudi/conc-workloads-bench1:sha-5966a0e \\\n  --env EXPERIMENT_NAME=TEST1 \\\n  --env REPORT_INTERVAL=10 \\\n  --env SOCKETIO_SERVER=NO \\\n  --limit 'cpu=250m,memory=256Mi' \\\n  --concurrency-target 1 \\\n  -a autoscaling.knative.dev/panicThresholdPercentage=1000\n"
     ]
    }
   ],
   "source": [
    "workload_name = 'bench1'\n",
    "image = 'ghcr.io/nimamahmoudi/conc-workloads-bench1:sha-5966a0e'\n",
    "env = {\n",
    "    'EXPERIMENT_NAME': 'TEST1',\n",
    "    'REPORT_INTERVAL': '10',\n",
    "    'SOCKETIO_SERVER': 'NO',\n",
    "}\n",
    "opts = {\n",
    "    '--limit': \"'cpu=250m,memory=256Mi'\",\n",
    "    '--concurrency-target': '1',\n",
    "    # '--concurrency-limit': '10',\n",
    "    # '--concurrency-utilization': '70',\n",
    "    # '--autoscale-window': '60s',\n",
    "}\n",
    "annotations = {\n",
    "    'autoscaling.knative.dev/panicThresholdPercentage': '1000',\n",
    "}\n",
    "\n",
    "workload_spec = {\n",
    "    'name': workload_name,\n",
    "    'image': image,\n",
    "    'env': env,\n",
    "    'opts': opts,\n",
    "    'annotations': annotations,\n",
    "}\n",
    "\n",
    "def kn_change_opts_concurrency_target(new_target, workload_spec):\n",
    "    workload_spec['opts']['--concurrency-target'] = new_target\n",
    "    return opts\n",
    "\n",
    "# to change options to have a new concurrency target\n",
    "# kn_change_opts_concurrency_target(1, workload_spec)\n",
    "\n",
    "kn_command = kube.get_kn_command(**workload_spec)\n",
    "print(kn_command)\n",
    "# to run the command, we can simply use:\n",
    "# !{kn_command}"
   ]
  },
  {
   "source": [
    "# Workload Specification"
   ],
   "cell_type": "markdown",
   "metadata": {}
  },
  {
   "cell_type": "code",
   "execution_count": 5,
   "metadata": {},
   "outputs": [
    {
     "output_type": "stream",
     "name": "stdout",
     "text": [
      "ready callback: 0\n"
     ]
    },
    {
     "output_type": "execute_result",
     "data": {
      "text/plain": [
       "{'client_start_time': 1611411978.5687087,\n",
       " 'client_end_time': 1611411984.2395618,\n",
       " 'client_elapsed_time': 5.670853137969971,\n",
       " 'start_conc': 1,\n",
       " 'end_conc': 1,\n",
       " 'success': True}"
      ]
     },
     "metadata": {},
     "execution_count": 5
    }
   ],
   "source": [
    "# user defined workload function\n",
    "def user_workload_func():\n",
    "    http_path = \"http://bench1.default.kn.nima-dev.com\"\n",
    "\n",
    "    cmds = {}\n",
    "    cmds['sleep'] = 0\n",
    "    cmds['sleep_till'] = 0\n",
    "    cmds['stat'] = {\"argv\": 1}\n",
    "\n",
    "    # cmds['cpu'] = {\"n\": 20000}\n",
    "\n",
    "    cmds['sleep'] = 1000 + (random.random() * 200)\n",
    "\n",
    "    # cmds['io'] = {\"rd\": 3, \"size\": \"200K\", \"cnt\": 5}\n",
    "    # cmds['cpu'] = {\"n\": 10000}\n",
    "\n",
    "    payload = {}\n",
    "    payload['cmds'] = cmds\n",
    "\n",
    "    res = requests.post(http_path, json=payload)\n",
    "    if res.status_code >= 300:\n",
    "        return False\n",
    "    return True\n",
    "\n",
    "# get ready count callback\n",
    "get_ready_cb = lambda: get_knative_watch_info(workload_name)['ready_replicas']\n",
    "print('ready callback:', get_ready_cb())\n",
    "# create logger and check one execution of workload func\n",
    "wlogger = workload.WorkloadLogger(get_ready_cb=get_ready_cb)\n",
    "simple_worker_func = lambda: wlogger.worker_func(user_workload_func)\n",
    "# add worker func to workload spec\n",
    "workload_spec['simple_worker_func'] = simple_worker_func\n",
    "\n",
    "simple_worker_func()"
   ]
  },
  {
   "cell_type": "code",
   "execution_count": 6,
   "metadata": {},
   "outputs": [
    {
     "output_type": "stream",
     "name": "stdout",
     "text": [
      "starting threads\n",
      "stopping threads...\n",
      "Done.\n"
     ]
    },
    {
     "output_type": "execute_result",
     "data": {
      "text/plain": [
       "{'ready_count': [1, 1, 1, 1],\n",
       " 'total_conc': [0, 0, 0, 0],\n",
       " 'conc_window_average': [0.0, 0.0, 0.0, 0.0],\n",
       " 'time': [1611411984.6263804,\n",
       "  1611411986.626806,\n",
       "  1611411988.6311753,\n",
       "  1611411990.6328735]}"
      ]
     },
     "metadata": {},
     "execution_count": 6
    }
   ],
   "source": [
    "# wlogger.monitoring_thread.start()\n",
    "# wlogger.record_conc_loop()\n",
    "# wlogger.monitor_conc_loop()\n",
    "wlogger.start_capturing()\n",
    "time.sleep(7)\n",
    "wlogger.stop_capturing()\n",
    "wlogger.get_recorded_data()"
   ]
  },
  {
   "source": [
    "# Specifying Single Experiment\n",
    "\n",
    "In this section, we will build the foundation for running a single experiment. In a later section, we will\n",
    "run several experiments to collect the necessary data."
   ],
   "cell_type": "markdown",
   "metadata": {}
  },
  {
   "cell_type": "code",
   "execution_count": 7,
   "metadata": {},
   "outputs": [
    {
     "output_type": "stream",
     "name": "stdout",
     "text": [
      "applying kn command:\n",
      "kn service apply bench1 --image ghcr.io/nimamahmoudi/conc-workloads-bench1:sha-5966a0e \\\n",
      "  --env EXPERIMENT_NAME=TEST1 \\\n",
      "  --env REPORT_INTERVAL=10 \\\n",
      "  --env SOCKETIO_SERVER=NO \\\n",
      "  --limit 'cpu=250m,memory=256Mi' \\\n",
      "  --concurrency-target 1 \\\n",
      "  -a autoscaling.knative.dev/panicThresholdPercentage=1000\n",
      "No changes to apply to service 'bench1'.\n",
      "Service 'bench1' with latest revision 'bench1-00001' (unchanged) is available at URL:\n",
      "http://bench1.default.kn.nima-dev.com\n",
      "kn apply done\n",
      "stopping threads...\n",
      "Done.\n",
      "starting threads\n",
      "============ Experiment Started ============\n",
      "Time Started: 2021-01-23 09:26:44.028174-05:00\n"
     ]
    },
    {
     "output_type": "display_data",
     "data": {
      "text/plain": "  0%|          | 0/3 [00:00<?, ?it/s]",
      "application/vnd.jupyter.widget-view+json": {
       "version_major": 2,
       "version_minor": 0,
       "model_id": "4eb33614cbe14c1fab50570992747a36"
      }
     },
     "metadata": {}
    },
    {
     "output_type": "stream",
     "name": "stdout",
     "text": [
      "Total Requests Made: 196\n",
      "stopping threads...\n",
      "Done.\n",
      "Experiment Name: bench1_sleep_1000_200\n",
      "Results Name: res-2021-01-23_09-29-48\n"
     ]
    }
   ],
   "source": [
    "def perform_experiment(rps, cc, base_workload_spec, exp_spec):\n",
    "    rps_list = [rps] * exp_spec['time_mins']\n",
    "    # get base workload\n",
    "    workload_spec = copy.deepcopy(base_workload_spec)\n",
    "    worker_func = workload_spec['simple_worker_func']\n",
    "    del workload_spec['simple_worker_func']\n",
    "    # change base workload cc\n",
    "    kn_change_opts_concurrency_target(cc, workload_spec)\n",
    "    # get kn command to change cc\n",
    "    kn_command = kube.get_kn_command(**workload_spec)\n",
    "    print('applying kn command:')\n",
    "    print(kn_command)\n",
    "    # apply the kn command\n",
    "    !{kn_command}\n",
    "    # wait for kn command to take effect\n",
    "    time.sleep(10)\n",
    "    print('kn apply done')\n",
    "\n",
    "    # initialize\n",
    "    wg = pacswg.WorkloadGenerator(worker_func=worker_func, rps=0, worker_thread_count=100)\n",
    "    wg.start_workers()\n",
    "    timer = TimerClass()\n",
    "    # make sure that logger is stopped\n",
    "    wlogger.stop_capturing()\n",
    "    # start capturing\n",
    "    wlogger.start_capturing()\n",
    "\n",
    "    print(\"============ Experiment Started ============\")\n",
    "    print(\"Time Started:\", datetime.now().astimezone(pytz.timezone(my_timezone)))\n",
    "\n",
    "    for rps in tqdm(rps_list):\n",
    "        wg.set_rps(rps)\n",
    "        timer.tic()\n",
    "        # apply each for one minute\n",
    "        while timer.toc() < 60:\n",
    "            wg.fire_wait()\n",
    "\n",
    "    # get the results\n",
    "    wg.stop_workers()\n",
    "    all_res = wg.get_stats()\n",
    "    print(\"Total Requests Made:\", len(all_res))\n",
    "    wlogger.stop_capturing()\n",
    "    logger_data = wlogger.get_recorded_data()\n",
    "\n",
    "    # collect the results\n",
    "    df_res = pd.DataFrame(data=all_res)\n",
    "    df_res['rps'] = rps\n",
    "    df_logger = pd.DataFrame(data=logger_data)\n",
    "    df_logger['rps'] = rps\n",
    "    now = datetime.now().astimezone(pytz.timezone(my_timezone))\n",
    "    res_name = now.strftime('res-%Y-%m-%d_%H-%M-%S')\n",
    "    res_folder = f'results/{exp_spec[\"name\"]}/'\n",
    "    # make the directory and file names\n",
    "    !mkdir -p {res_folder}\n",
    "    requests_results_filename = f'{res_name}_reqs.csv'\n",
    "    logger_results_filename = f'{res_name}_logger.csv'\n",
    "    # save the results\n",
    "    df_res.to_csv(os.path.join(res_folder, requests_results_filename))\n",
    "    df_logger.to_csv(os.path.join(res_folder, logger_results_filename))\n",
    "\n",
    "    print('Experiment Name:', exp_spec['name'])\n",
    "    print('Results Name:', res_name)\n",
    "\n",
    "\n",
    "# experiment specification\n",
    "exp_spec = {\n",
    "    'time_mins': 20,\n",
    "    'name': 'bench1_sleep_1000_200'\n",
    "}\n",
    "\n",
    "# perform_experiment(rps=1, cc=1, base_workload_spec=workload_spec, exp_spec=exp_spec)"
   ]
  },
  {
   "source": [
    "# Performing A Series of Experiments"
   ],
   "cell_type": "markdown",
   "metadata": {}
  },
  {
   "cell_type": "code",
   "execution_count": null,
   "metadata": {},
   "outputs": [],
   "source": [
    "for cc in range(1,10,2):\n",
    "    for rps in np.linspace(1,21,11):\n",
    "        perform_experiment(rps=rps, cc=cc, base_workload_spec=workload_spec, exp_spec=exp_spec)"
   ]
  }
 ],
 "metadata": {
  "kernelspec": {
   "name": "python3",
   "display_name": "Python 3.8.5 64-bit ('base': conda)",
   "metadata": {
    "interpreter": {
     "hash": "4f7b070ef049bbd8502237a868479304b4da16a010bb509c19371ab8ff01cc23"
    }
   }
  },
  "language_info": {
   "codemirror_mode": {
    "name": "ipython",
    "version": 3
   },
   "file_extension": ".py",
   "mimetype": "text/x-python",
   "name": "python",
   "nbconvert_exporter": "python",
   "pygments_lexer": "ipython3",
   "version": "3.8.5-final"
  }
 },
 "nbformat": 4,
 "nbformat_minor": 2
}