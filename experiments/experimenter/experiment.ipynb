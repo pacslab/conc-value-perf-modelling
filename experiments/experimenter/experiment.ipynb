{
 "cells": [
  {
   "cell_type": "markdown",
   "metadata": {},
   "source": [
    "# Experimenting With APIs\n",
    "\n",
    "In this notebook, we will be experimenting with the APIs and create helper functions."
   ]
  },
  {
   "cell_type": "code",
   "execution_count": 1,
   "metadata": {
    "execution": {
     "iopub.execute_input": "2021-01-22T02:57:36.291674Z",
     "iopub.status.busy": "2021-01-22T02:57:36.289785Z",
     "iopub.status.idle": "2021-01-22T02:57:36.628875Z",
     "shell.execute_reply": "2021-01-22T02:57:36.629688Z"
    }
   },
   "outputs": [],
   "source": [
    "# general imports\n",
    "import time\n",
    "import re\n",
    "from collections import namedtuple\n",
    "\n",
    "# my imports\n",
    "from helpers import kube"
   ]
  },
  {
   "cell_type": "markdown",
   "metadata": {},
   "source": [
    "## Kubernetes API\n",
    "\n",
    "We use the kubernetes API to fetch the current status of each deployment and see how many instances they have."
   ]
  },
  {
   "cell_type": "code",
   "execution_count": 2,
   "metadata": {
    "execution": {
     "iopub.execute_input": "2021-01-22T02:57:36.635251Z",
     "iopub.status.busy": "2021-01-22T02:57:36.634261Z",
     "iopub.status.idle": "2021-01-22T02:57:37.653652Z",
     "shell.execute_reply": "2021-01-22T02:57:37.654506Z"
    },
    "tags": []
   },
   "outputs": [
    {
     "output_type": "stream",
     "name": "stdout",
     "text": [
      "starting watch thread...\n",
      "{'kind': 'Deployment', 'replicas': 0, 'ready_replicas': 0, 'last_update': 1611285138.1170037}\n"
     ]
    },
    {
     "output_type": "execute_result",
     "data": {
      "text/plain": [
       "[KnativeDeployment(deployment='helloworld-go-00001-deployment', name='helloworld-go', revision='00001', revision_num=1)]"
      ]
     },
     "metadata": {},
     "execution_count": 2
    }
   ],
   "source": [
    "# start watch thread\n",
    "kube.start_watch_thread()\n",
    "# print details of a deployment\n",
    "print(kube.live_deployments['helloworld-go-00001-deployment'])\n",
    "# fetch a list of all knative deployments\n",
    "kube.get_knative_deployments()"
   ]
  },
  {
   "cell_type": "markdown",
   "metadata": {},
   "source": [
    "## Deploying On Knative\n",
    "\n",
    "In this section, we will develop the functionality to deploy a given workload to **knative** using the `kn` CLI.\n",
    "The other options were using [CRDs](https://stackoverflow.com/questions/61384188/how-to-deploy-a-knative-service-with-kubernetes-python-client-library),\n",
    "or using [kubectl apply](https://developers.redhat.com/coderland/serverless/deploying-serverless-knative#invoking_your_service_from_the_command_line)\n",
    "but `kn` seems to be more powerful."
   ]
  },
  {
   "cell_type": "code",
   "execution_count": 3,
   "metadata": {
    "execution": {
     "iopub.execute_input": "2021-01-22T02:57:37.659178Z",
     "iopub.status.busy": "2021-01-22T02:57:37.658372Z",
     "iopub.status.idle": "2021-01-22T02:57:38.510743Z",
     "shell.execute_reply": "2021-01-22T02:57:38.509766Z"
    }
   },
   "outputs": [
    {
     "output_type": "stream",
     "name": "stdout",
     "text": [
      "NAME            URL                                            LATEST                AGE   CONDITIONS   READY   REASON\nhelloworld-go   http://helloworld-go.default.kn.nima-dev.com   helloworld-go-00001   10h   3 OK / 3     True    \n"
     ]
    }
   ],
   "source": [
    "# making sure kn is set up correctly\n",
    "!kn service ls"
   ]
  },
  {
   "cell_type": "code",
   "execution_count": null,
   "metadata": {},
   "outputs": [],
   "source": []
  }
 ],
 "metadata": {
  "kernelspec": {
   "name": "python3",
   "display_name": "Python 3.8.5 64-bit ('base': conda)",
   "metadata": {
    "interpreter": {
     "hash": "4f7b070ef049bbd8502237a868479304b4da16a010bb509c19371ab8ff01cc23"
    }
   }
  },
  "language_info": {
   "codemirror_mode": {
    "name": "ipython",
    "version": 3
   },
   "file_extension": ".py",
   "mimetype": "text/x-python",
   "name": "python",
   "nbconvert_exporter": "python",
   "pygments_lexer": "ipython3",
   "version": "3.8.5-final"
  }
 },
 "nbformat": 4,
 "nbformat_minor": 2
}