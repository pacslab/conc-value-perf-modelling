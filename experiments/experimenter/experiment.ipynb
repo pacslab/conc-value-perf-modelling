{
 "cells": [
  {
   "cell_type": "markdown",
   "metadata": {},
   "source": [
    "# Experimenting With APIs\n",
    "\n",
    "In this notebook, we will be experimenting with the APIs and create helper functions."
   ]
  },
  {
   "cell_type": "code",
   "execution_count": 1,
   "metadata": {
    "execution": {
     "iopub.execute_input": "2021-01-22T02:57:36.291674Z",
     "iopub.status.busy": "2021-01-22T02:57:36.289785Z",
     "iopub.status.idle": "2021-01-22T02:57:36.628875Z",
     "shell.execute_reply": "2021-01-22T02:57:36.629688Z"
    }
   },
   "outputs": [],
   "source": [
    "# general imports\n",
    "import time\n",
    "import re\n",
    "from collections import namedtuple, deque\n",
    "import random\n",
    "\n",
    "# library imports\n",
    "import requests\n",
    "\n",
    "# my imports\n",
    "from helpers import kube\n",
    "from helpers import workload"
   ]
  },
  {
   "cell_type": "markdown",
   "metadata": {},
   "source": [
    "## Kubernetes API\n",
    "\n",
    "We use the kubernetes API to fetch the current status of each deployment and see how many instances they have."
   ]
  },
  {
   "cell_type": "code",
   "execution_count": 2,
   "metadata": {
    "execution": {
     "iopub.execute_input": "2021-01-22T02:57:36.635251Z",
     "iopub.status.busy": "2021-01-22T02:57:36.634261Z",
     "iopub.status.idle": "2021-01-22T02:57:37.653652Z",
     "shell.execute_reply": "2021-01-22T02:57:37.654506Z"
    },
    "tags": []
   },
   "outputs": [
    {
     "output_type": "stream",
     "name": "stdout",
     "text": [
      "starting watch thread...\n"
     ]
    },
    {
     "output_type": "execute_result",
     "data": {
      "text/plain": [
       "{'kind': 'Deployment',\n",
       " 'replicas': 0,\n",
       " 'ready_replicas': 0,\n",
       " 'last_update': 1611348746.2481732}"
      ]
     },
     "metadata": {},
     "execution_count": 2
    }
   ],
   "source": [
    "# start watch thread\n",
    "kube.start_watch_thread()\n",
    "# print details of a deployment\n",
    "# print(kube.live_deployments['helloworld-go-00001-deployment'])\n",
    "# fetch a list of all knative deployments\n",
    "# print(kube.get_knative_deployments())\n",
    "# fetch latest revisions only\n",
    "\n",
    "def get_knative_watch_info(kn_deploy_name):\n",
    "    kn_latest_revs = kube.get_kn_latest_revs()\n",
    "    if kn_deploy_name not in kn_latest_revs:\n",
    "        return None\n",
    "    bench_deployment = kn_latest_revs[kn_deploy_name]\n",
    "    return kube.live_deployments[bench_deployment.deployment]\n",
    "\n",
    "get_knative_watch_info('bench1')"
   ]
  },
  {
   "cell_type": "markdown",
   "metadata": {},
   "source": [
    "## Deploying On Knative\n",
    "\n",
    "In this section, we will develop the functionality to deploy a given workload to **knative** using the `kn` CLI.\n",
    "The other options were using [CRDs](https://stackoverflow.com/questions/61384188/how-to-deploy-a-knative-service-with-kubernetes-python-client-library),\n",
    "or using [kubectl apply](https://developers.redhat.com/coderland/serverless/deploying-serverless-knative#invoking_your_service_from_the_command_line)\n",
    "but `kn` seems to be more powerful."
   ]
  },
  {
   "cell_type": "code",
   "execution_count": 3,
   "metadata": {
    "execution": {
     "iopub.execute_input": "2021-01-22T02:57:37.659178Z",
     "iopub.status.busy": "2021-01-22T02:57:37.658372Z",
     "iopub.status.idle": "2021-01-22T02:57:38.510743Z",
     "shell.execute_reply": "2021-01-22T02:57:38.509766Z"
    }
   },
   "outputs": [
    {
     "output_type": "stream",
     "name": "stdout",
     "text": [
      "NAME            URL                                            LATEST                AGE   CONDITIONS   READY   REASON\nbench1          http://bench1.default.kn.nima-dev.com          bench1-00001          35m   3 OK / 3     True    \nhelloworld-go   http://helloworld-go.default.kn.nima-dev.com   helloworld-go-00001   27h   3 OK / 3     True    \n"
     ]
    }
   ],
   "source": [
    "# making sure kn is set up correctly\n",
    "!kn service ls"
   ]
  },
  {
   "cell_type": "code",
   "execution_count": 4,
   "metadata": {},
   "outputs": [
    {
     "output_type": "stream",
     "name": "stdout",
     "text": [
      "kn service apply bench1 --image ghcr.io/nimamahmoudi/conc-workloads-bench1:sha-5966a0e \\\n  --env EXPERIMENT_NAME=TEST1 \\\n  --env REPORT_INTERVAL=10 \\\n  --env SOCKETIO_SERVER=NO \\\n  --limit 'cpu=250m,memory=256Mi' \\\n  --concurrency-target 1 \\\n  -a autoscaling.knative.dev/panicThresholdPercentage=1000\n"
     ]
    }
   ],
   "source": [
    "workload_name = 'bench1'\n",
    "image = 'ghcr.io/nimamahmoudi/conc-workloads-bench1:sha-5966a0e'\n",
    "env = {\n",
    "    'EXPERIMENT_NAME': 'TEST1',\n",
    "    'REPORT_INTERVAL': '10',\n",
    "    'SOCKETIO_SERVER': 'NO',\n",
    "}\n",
    "opts = {\n",
    "    '--limit': \"'cpu=250m,memory=256Mi'\",\n",
    "    '--concurrency-target': '1',\n",
    "    # '--concurrency-limit': '10',\n",
    "    # '--concurrency-utilization': '70',\n",
    "    # '--autoscale-window': '60s',\n",
    "}\n",
    "annotations = {\n",
    "    'autoscaling.knative.dev/panicThresholdPercentage': '1000',\n",
    "}\n",
    "\n",
    "def kn_change_opts_concurrency_target(new_target, opts):\n",
    "    opts['--concurrency-target'] = new_target\n",
    "    return opts\n",
    "\n",
    "# to change options to have a new concurrency target\n",
    "# kn_change_opts_concurrency_target(10, opts)\n",
    "\n",
    "kn_command = kube.get_kn_command(workload_name, image, env, opts, annotations)\n",
    "print(kn_command)\n",
    "# to run the command, we can simply use:\n",
    "# !{kn_command}"
   ]
  },
  {
   "source": [
    "# Workload Specification"
   ],
   "cell_type": "markdown",
   "metadata": {}
  },
  {
   "cell_type": "code",
   "execution_count": 5,
   "metadata": {},
   "outputs": [
    {
     "output_type": "stream",
     "name": "stdout",
     "text": [
      "ready callback: 0\n"
     ]
    },
    {
     "output_type": "execute_result",
     "data": {
      "text/plain": [
       "{'client_start_time': 1611348748.377375,\n",
       " 'client_end_time': 1611348754.0458183,\n",
       " 'client_elapsed_time': 5.668443441390991,\n",
       " 'start_conc': 1,\n",
       " 'end_conc': 1,\n",
       " 'success': True}"
      ]
     },
     "metadata": {},
     "execution_count": 5
    }
   ],
   "source": [
    "# user defined workload function\n",
    "def user_workload_func():\n",
    "    http_path = \"http://bench1.default.kn.nima-dev.com\"\n",
    "\n",
    "    cmds = {}\n",
    "    cmds['sleep'] = 0\n",
    "    cmds['sleep_till'] = 0\n",
    "    cmds['stat'] = {\"argv\": 1}\n",
    "\n",
    "    # cmds['cpu'] = {\"n\": 20000}\n",
    "\n",
    "    cmds['sleep'] = 1000 + (random.random() * 200)\n",
    "\n",
    "    # cmds['io'] = {\"rd\": 3, \"size\": \"200K\", \"cnt\": 5}\n",
    "    # cmds['cpu'] = {\"n\": 10000}\n",
    "\n",
    "    payload = {}\n",
    "    payload['cmds'] = cmds\n",
    "\n",
    "    res = requests.post(http_path, json=payload)\n",
    "    if res.status_code >= 300:\n",
    "        return False\n",
    "    return True\n",
    "\n",
    "# get ready count callback\n",
    "get_ready_cb = lambda: get_knative_watch_info(workload_name)['ready_replicas']\n",
    "print('ready callback:', get_ready_cb())\n",
    "# create logger and check one execution of workload func\n",
    "wlogger = workload.WorkloadLogger(get_ready_cb=get_ready_cb)\n",
    "wlogger.worker_func(user_workload_func)"
   ]
  },
  {
   "cell_type": "code",
   "execution_count": 6,
   "metadata": {},
   "outputs": [
    {
     "output_type": "stream",
     "name": "stdout",
     "text": [
      "starting threads\n",
      "stopping threads...\n",
      "Done.\n"
     ]
    },
    {
     "output_type": "execute_result",
     "data": {
      "text/plain": [
       "{'ready_count': [1, 2, 2, 1],\n",
       " 'total_conc': [0, 0, 0, 0],\n",
       " 'conc_window_average': [0.0, 0.0, 0.0, 0.0]}"
      ]
     },
     "metadata": {},
     "execution_count": 6
    }
   ],
   "source": [
    "# wlogger.monitoring_thread.start()\n",
    "# wlogger.record_conc_loop()\n",
    "# wlogger.monitor_conc_loop()\n",
    "wlogger.start_capturing()\n",
    "time.sleep(7)\n",
    "wlogger.stop_capturing()\n",
    "wlogger.get_recorded_data()"
   ]
  }
 ],
 "metadata": {
  "kernelspec": {
   "name": "python3",
   "display_name": "Python 3.8.5 64-bit ('base': conda)",
   "metadata": {
    "interpreter": {
     "hash": "4f7b070ef049bbd8502237a868479304b4da16a010bb509c19371ab8ff01cc23"
    }
   }
  },
  "language_info": {
   "codemirror_mode": {
    "name": "ipython",
    "version": 3
   },
   "file_extension": ".py",
   "mimetype": "text/x-python",
   "name": "python",
   "nbconvert_exporter": "python",
   "pygments_lexer": "ipython3",
   "version": "3.8.5-final"
  }
 },
 "nbformat": 4,
 "nbformat_minor": 2
}