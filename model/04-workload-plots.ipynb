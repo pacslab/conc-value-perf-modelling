{
 "cells": [
  {
   "cell_type": "code",
   "execution_count": 1,
   "metadata": {},
   "outputs": [],
   "source": [
    "%load_ext autoreload\n",
    "%autoreload 2\n",
    "# imports\n",
    "import time\n",
    "\n",
    "# important libraries\n",
    "import numpy as np\n",
    "import pandas as pd\n",
    "import matplotlib.pyplot as plt\n",
    "import seaborn as sns\n",
    "import scipy.stats as stats\n",
    "import scipy as sp\n",
    "\n",
    "from tqdm.auto import tqdm\n",
    "import itertools\n",
    "\n",
    "# for better printing of variables\n",
    "from IPython.display import display\n",
    "\n",
    "# custom imports\n",
    "from concperf import single_model, general_model\n",
    "from concperf import utility"
   ]
  },
  {
   "cell_type": "code",
   "execution_count": 2,
   "metadata": {},
   "outputs": [],
   "source": [
    "# update configuration dictionary for each instance count\n",
    "def update_config(config):\n",
    "    config['arrival_rate_server'] = config['arrival_rate_total'] / config['instance_count']\n",
    "    config['base_service_time'] = config['base_service_time_ms'] / 1000\n",
    "    config['stable_conc_avg_count'] = 10 * config['instance_count']\n",
    "\n",
    "# target utilization\n",
    "target_util = 0.7\n",
    "\n",
    "\n",
    "# model_config = {\n",
    "#     # 'instance_count' should be added for each state\n",
    "#     'max_conc': 100,\n",
    "#     'arrival_rate_total': 10,\n",
    "#     'alpha': 0.11,\n",
    "#     'base_service_time_ms': 1154,\n",
    "#     'max_container_count': 25,\n",
    "#     'target_conc': 1*target_util, # assumes target utilization\n",
    "#     'max_scale_up_rate': 1000, # from N to 1000*N at most\n",
    "#     'max_scale_down_rate': 2, # from N to N/2 at most\n",
    "#     # 'stable_conc_avg_count': 60, # number of times monitored concurrency will be averaged in stable mode\n",
    "#     'autoscaling_interval': 2, # amount of time between autoscaling evaluations\n",
    "#     'provision_rate_base': 1,\n",
    "#     'deprovision_rate_base': 2,\n",
    "# }\n",
    "\n",
    "# trying new model extracted params\n",
    "model_config = {\n",
    "    # 'instance_count' should be added for each state\n",
    "    'max_conc': 10,\n",
    "    'arrival_rate_total': 10,\n",
    "    'alpha': 0.102,\n",
    "    'base_service_time_ms': 1180,\n",
    "    'max_container_count': 40,\n",
    "    'target_conc': 1*target_util, # assumes target utilization\n",
    "    'max_scale_up_rate': 1000, # from N to 1000*N at most\n",
    "    'max_scale_down_rate': 2, # from N to N/2 at most\n",
    "    # 'stable_conc_avg_count': 60, # number of times monitored concurrency will be averaged in stable mode\n",
    "    'autoscaling_interval': 2, # amount of time between autoscaling evaluations\n",
    "    'provision_rate_base': 1,\n",
    "    'deprovision_rate_base': 2,\n",
    "}\n",
    "\n",
    "# test\n",
    "# model_config = {\n",
    "#     # 'instance_count' should be added for each state\n",
    "#     'max_conc': 100,\n",
    "#     'arrival_rate_total': 15,\n",
    "#     'alpha': 1,\n",
    "#     'base_service_time_ms': 120,\n",
    "#     'max_container_count': 25,\n",
    "#     'target_conc': 1*target_util, # assumes target utilization\n",
    "#     'max_scale_up_rate': 1000, # from N to 1000*N at most\n",
    "#     'max_scale_down_rate': 2, # from N to N/2 at most\n",
    "#     # 'stable_conc_avg_count': 60, # number of times monitored concurrency will be averaged in stable mode\n",
    "#     'autoscaling_interval': 2, # amount of time between autoscaling evaluations\n",
    "#     'provision_rate_base': 1,\n",
    "#     'deprovision_rate_base': 2,\n",
    "# }"
   ]
  },
  {
   "cell_type": "code",
   "execution_count": 3,
   "metadata": {},
   "outputs": [],
   "source": [
    "# sample execution\n",
    "# res = general_model.solve_general_model(model_config, update_config)\n",
    "# res_params = general_model.calculate_general_params(res, model_config)\n",
    "# res.update(res_params)\n",
    "# res.keys()"
   ]
  },
  {
   "cell_type": "markdown",
   "metadata": {},
   "source": [
    "# Arrival Rate Plots"
   ]
  },
  {
   "cell_type": "code",
   "execution_count": 4,
   "metadata": {},
   "outputs": [
    {
     "data": {
      "application/vnd.jupyter.widget-view+json": {
       "model_id": "0768412fea8c44a3a840cbc5db437d94",
       "version_major": 2,
       "version_minor": 0
      },
      "text/plain": [
       "  0%|          | 0/10 [00:00<?, ?it/s]"
      ]
     },
     "metadata": {},
     "output_type": "display_data"
    },
    {
     "name": "stdout",
     "output_type": "stream",
     "text": [
      "\n",
      "new order calculation took 1758.8326506614685 seconds for 10 arrival rates (175.88 per job)\n"
     ]
    }
   ],
   "source": [
    "arrival_rates = list(np.linspace(1, 30, 10))\n",
    "\n",
    "def parse_arrival_rate(arrival_rate):\n",
    "    config = {**model_config}\n",
    "    config.update({\n",
    "        'arrival_rate_total': arrival_rate,\n",
    "    })\n",
    "    res = general_model.solve_general_model(config, update_config)\n",
    "    res_params = general_model.calculate_general_params(res, config)\n",
    "    res.update(res_params)\n",
    "    res.update(config)\n",
    "    return res\n",
    "\n",
    "start_time = time.time()\n",
    "total_results = list(map(parse_arrival_rate, tqdm(arrival_rates, position=0, leave=True)))\n",
    "elapsed_time = time.time() - start_time\n",
    "print(f\"\\nnew order calculation took {elapsed_time} seconds for {len(arrival_rates)} arrival rates ({elapsed_time/len(arrival_rates):4.2f} per job)\")"
   ]
  },
  {
   "cell_type": "code",
   "execution_count": 5,
   "metadata": {},
   "outputs": [
    {
     "data": {
      "text/html": [
       "<div>\n",
       "<style scoped>\n",
       "    .dataframe tbody tr th:only-of-type {\n",
       "        vertical-align: middle;\n",
       "    }\n",
       "\n",
       "    .dataframe tbody tr th {\n",
       "        vertical-align: top;\n",
       "    }\n",
       "\n",
       "    .dataframe thead th {\n",
       "        text-align: right;\n",
       "    }\n",
       "</style>\n",
       "<table border=\"1\" class=\"dataframe\">\n",
       "  <thead>\n",
       "    <tr style=\"text-align: right;\">\n",
       "      <th></th>\n",
       "      <th>arrival_rate_total</th>\n",
       "      <th>ready_avg</th>\n",
       "      <th>ordered_avg</th>\n",
       "      <th>req_count_avg</th>\n",
       "      <th>resp_time_avg</th>\n",
       "      <th>cc</th>\n",
       "    </tr>\n",
       "  </thead>\n",
       "  <tbody>\n",
       "    <tr>\n",
       "      <th>0</th>\n",
       "      <td>1.000000</td>\n",
       "      <td>2.195950</td>\n",
       "      <td>2.232008</td>\n",
       "      <td>0.625934</td>\n",
       "      <td>1229.782215</td>\n",
       "      <td>1</td>\n",
       "    </tr>\n",
       "    <tr>\n",
       "      <th>1</th>\n",
       "      <td>4.222222</td>\n",
       "      <td>8.016462</td>\n",
       "      <td>8.089943</td>\n",
       "      <td>0.677511</td>\n",
       "      <td>1230.184548</td>\n",
       "      <td>1</td>\n",
       "    </tr>\n",
       "    <tr>\n",
       "      <th>2</th>\n",
       "      <td>7.444444</td>\n",
       "      <td>13.810465</td>\n",
       "      <td>13.908990</td>\n",
       "      <td>0.688420</td>\n",
       "      <td>1230.688059</td>\n",
       "      <td>1</td>\n",
       "    </tr>\n",
       "    <tr>\n",
       "      <th>3</th>\n",
       "      <td>10.666667</td>\n",
       "      <td>19.575397</td>\n",
       "      <td>19.696112</td>\n",
       "      <td>0.694281</td>\n",
       "      <td>1231.041960</td>\n",
       "      <td>1</td>\n",
       "    </tr>\n",
       "    <tr>\n",
       "      <th>4</th>\n",
       "      <td>13.888889</td>\n",
       "      <td>25.415030</td>\n",
       "      <td>25.553317</td>\n",
       "      <td>0.695277</td>\n",
       "      <td>1231.074931</td>\n",
       "      <td>1</td>\n",
       "    </tr>\n",
       "    <tr>\n",
       "      <th>5</th>\n",
       "      <td>17.111111</td>\n",
       "      <td>31.209210</td>\n",
       "      <td>31.364717</td>\n",
       "      <td>0.697204</td>\n",
       "      <td>1231.227267</td>\n",
       "      <td>1</td>\n",
       "    </tr>\n",
       "    <tr>\n",
       "      <th>6</th>\n",
       "      <td>20.333333</td>\n",
       "      <td>36.882858</td>\n",
       "      <td>37.040356</td>\n",
       "      <td>0.700702</td>\n",
       "      <td>1231.504835</td>\n",
       "      <td>1</td>\n",
       "    </tr>\n",
       "    <tr>\n",
       "      <th>7</th>\n",
       "      <td>23.555556</td>\n",
       "      <td>39.841335</td>\n",
       "      <td>39.867310</td>\n",
       "      <td>0.753059</td>\n",
       "      <td>1235.574767</td>\n",
       "      <td>1</td>\n",
       "    </tr>\n",
       "    <tr>\n",
       "      <th>8</th>\n",
       "      <td>26.777778</td>\n",
       "      <td>39.975749</td>\n",
       "      <td>39.987870</td>\n",
       "      <td>0.861934</td>\n",
       "      <td>1244.416594</td>\n",
       "      <td>1</td>\n",
       "    </tr>\n",
       "    <tr>\n",
       "      <th>9</th>\n",
       "      <td>30.000000</td>\n",
       "      <td>39.969920</td>\n",
       "      <td>39.984982</td>\n",
       "      <td>0.976479</td>\n",
       "      <td>1253.960363</td>\n",
       "      <td>1</td>\n",
       "    </tr>\n",
       "  </tbody>\n",
       "</table>\n",
       "</div>"
      ],
      "text/plain": [
       "   arrival_rate_total  ready_avg  ordered_avg  req_count_avg  resp_time_avg  \\\n",
       "0            1.000000   2.195950     2.232008       0.625934    1229.782215   \n",
       "1            4.222222   8.016462     8.089943       0.677511    1230.184548   \n",
       "2            7.444444  13.810465    13.908990       0.688420    1230.688059   \n",
       "3           10.666667  19.575397    19.696112       0.694281    1231.041960   \n",
       "4           13.888889  25.415030    25.553317       0.695277    1231.074931   \n",
       "5           17.111111  31.209210    31.364717       0.697204    1231.227267   \n",
       "6           20.333333  36.882858    37.040356       0.700702    1231.504835   \n",
       "7           23.555556  39.841335    39.867310       0.753059    1235.574767   \n",
       "8           26.777778  39.975749    39.987870       0.861934    1244.416594   \n",
       "9           30.000000  39.969920    39.984982       0.976479    1253.960363   \n",
       "\n",
       "   cc  \n",
       "0   1  \n",
       "1   1  \n",
       "2   1  \n",
       "3   1  \n",
       "4   1  \n",
       "5   1  \n",
       "6   1  \n",
       "7   1  \n",
       "8   1  \n",
       "9   1  "
      ]
     },
     "execution_count": 5,
     "metadata": {},
     "output_type": "execute_result"
    }
   ],
   "source": [
    "extract_keys = [\n",
    "    'arrival_rate_total', \n",
    "    'ready_avg', \n",
    "    'ordered_avg', \n",
    "    'req_count_avg', \n",
    "    'resp_time_avg', \n",
    "]\n",
    "\n",
    "def extract_params(total_results, model_config):\n",
    "    extract_vals = []\n",
    "    for r in total_results:\n",
    "        extract_vals.append({k:r[k] for k in extract_keys})\n",
    "    resdf = pd.DataFrame(data=extract_vals)\n",
    "    resdf['cc'] = int(model_config['target_conc']/target_util)\n",
    "    return resdf\n",
    "\n",
    "\n",
    "resdf = extract_params(total_results, model_config)\n",
    "resdf"
   ]
  },
  {
   "cell_type": "code",
   "execution_count": 6,
   "metadata": {},
   "outputs": [
    {
     "data": {
      "text/plain": [
       "<matplotlib.legend.Legend at 0x143880a0408>"
      ]
     },
     "execution_count": 6,
     "metadata": {},
     "output_type": "execute_result"
    },
    {
     "data": {
      "image/png": "[encoded data removed]",
      "text/plain": [
       "<Figure size 576x288 with 1 Axes>"
      ]
     },
     "metadata": {
      "needs_background": "light"
     },
     "output_type": "display_data"
    }
   ],
   "source": [
    "def default_plt_configs():\n",
    "    plt.figure(figsize=(8,4))\n",
    "    plt.grid(True)\n",
    "    plt.tight_layout()\n",
    "    plt.xlabel('Arrival Rate')\n",
    "\n",
    "default_plt_configs()\n",
    "# number of ordered instances\n",
    "plt.plot(resdf['arrival_rate_total'], resdf['ordered_avg'], label='Ordered')\n",
    "# number of ready instances\n",
    "plt.plot(resdf['arrival_rate_total'], resdf['ready_avg'], label='Ready')\n",
    "plt.legend()"
   ]
  },
  {
   "cell_type": "code",
   "execution_count": 7,
   "metadata": {},
   "outputs": [
    {
     "data": {
      "text/plain": [
       "[<matplotlib.lines.Line2D at 0x14388164088>]"
      ]
     },
     "execution_count": 7,
     "metadata": {},
     "output_type": "execute_result"
    },
    {
     "data": {
      "image/png": "[encoded data removed]",
      "text/plain": [
       "<Figure size 576x288 with 1 Axes>"
      ]
     },
     "metadata": {
      "needs_background": "light"
     },
     "output_type": "display_data"
    }
   ],
   "source": [
    "default_plt_configs()\n",
    "# average response time\n",
    "plt.plot(resdf['arrival_rate_total'], resdf['resp_time_avg'])"
   ]
  },
  {
   "cell_type": "code",
   "execution_count": 8,
   "metadata": {},
   "outputs": [
    {
     "data": {
      "text/plain": [
       "[<matplotlib.lines.Line2D at 0x143881d3dc8>]"
      ]
     },
     "execution_count": 8,
     "metadata": {},
     "output_type": "execute_result"
    },
    {
     "data": {
      "image/png": "[encoded data removed]",
      "text/plain": [
       "<Figure size 576x288 with 1 Axes>"
      ]
     },
     "metadata": {
      "needs_background": "light"
     },
     "output_type": "display_data"
    }
   ],
   "source": [
    "# average concurrency per server\n",
    "default_plt_configs()\n",
    "plt.plot(resdf['arrival_rate_total'], resdf['req_count_avg'])"
   ]
  },
  {
   "cell_type": "markdown",
   "metadata": {},
   "source": [
    "# Overall Arrival Rate Plots"
   ]
  },
  {
   "cell_type": "code",
   "execution_count": null,
   "metadata": {},
   "outputs": [
    {
     "data": {
      "application/vnd.jupyter.widget-view+json": {
       "model_id": "be053ab1b24545c0bd3261be0240cda4",
       "version_major": 2,
       "version_minor": 0
      },
      "text/plain": [
       "  0%|          | 0/10 [00:00<?, ?it/s]"
      ]
     },
     "metadata": {},
     "output_type": "display_data"
    }
   ],
   "source": [
    "# calculate parameters for differenct concurrencies\n",
    "# ccs = [1,2,4,8,16]\n",
    "ccs = [1,3,5]\n",
    "\n",
    "tresdf = pd.DataFrame()\n",
    "for cc in ccs:\n",
    "    model_config.update({\n",
    "        'target_conc': cc * target_util,\n",
    "    })\n",
    "    total_results = list(map(parse_arrival_rate, tqdm(arrival_rates, position=0, leave=True)))\n",
    "    resdf = extract_params(total_results, model_config)\n",
    "    tresdf = tresdf.append(resdf)"
   ]
  },
  {
   "cell_type": "code",
   "execution_count": null,
   "metadata": {},
   "outputs": [],
   "source": [
    "total_res = tresdf.set_index('arrival_rate_total')\n",
    "total_res['cc_legend'] = total_res['cc'].apply(lambda x: f\"CC={x:2.0f}\")\n",
    "tresdf.head()"
   ]
  },
  {
   "cell_type": "code",
   "execution_count": null,
   "metadata": {},
   "outputs": [],
   "source": [
    "# number of instances plot\n",
    "default_plt_configs()\n",
    "total_res.groupby('cc_legend')['ready_avg'].plot(legend=True)\n",
    "plt.ylabel('Ready Instance Count')\n",
    "plt.xlim([0,20])\n",
    "plt.grid(True)"
   ]
  },
  {
   "cell_type": "code",
   "execution_count": null,
   "metadata": {},
   "outputs": [],
   "source": [
    "# concurrency per server (needs further investigation)\n",
    "default_plt_configs()\n",
    "plt.ylabel('Average Concurrency Level')\n",
    "total_res['test_req_count_avg'] = total_res['req_count_avg'] / 1.2\n",
    "total_res.groupby('cc_legend')['test_req_count_avg'].plot(legend=True)\n",
    "plt.grid(True)\n",
    "# plt.ylim([0,5])\n",
    "plt.xlim([0,20])"
   ]
  },
  {
   "cell_type": "code",
   "execution_count": null,
   "metadata": {},
   "outputs": [],
   "source": []
  }
 ],
 "metadata": {
  "kernelspec": {
   "display_name": "Python 3",
   "language": "python",
   "name": "python3"
  },
  "language_info": {
   "codemirror_mode": {
    "name": "ipython",
    "version": 3
   },
   "file_extension": ".py",
   "mimetype": "text/x-python",
   "name": "python",
   "nbconvert_exporter": "python",
   "pygments_lexer": "ipython3",
   "version": "3.7.9"
  }
 },
 "nbformat": 4,
 "nbformat_minor": 4
}
