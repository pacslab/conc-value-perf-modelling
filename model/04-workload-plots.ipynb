{
 "cells": [
  {
   "cell_type": "code",
   "execution_count": 1,
   "metadata": {},
   "outputs": [],
   "source": [
    "%load_ext autoreload\n",
    "%autoreload 2\n",
    "# imports\n",
    "import time\n",
    "\n",
    "# important libraries\n",
    "import numpy as np\n",
    "import pandas as pd\n",
    "import matplotlib.pyplot as plt\n",
    "import seaborn as sns\n",
    "import scipy.stats as stats\n",
    "import scipy as sp\n",
    "\n",
    "from tqdm.auto import tqdm\n",
    "import itertools\n",
    "\n",
    "# for better printing of variables\n",
    "from IPython.display import display\n",
    "\n",
    "# custom imports\n",
    "from concperf import single_model, general_model\n",
    "from concperf import utility"
   ]
  },
  {
   "cell_type": "code",
   "execution_count": 2,
   "metadata": {},
   "outputs": [],
   "source": [
    "# update configuration dictionary for each instance count\n",
    "def update_config(config):\n",
    "    config['arrival_rate_server'] = config['arrival_rate_total'] / config['instance_count']\n",
    "    config['base_service_time'] = config['base_service_time_ms'] / 1000\n",
    "    config['stable_conc_avg_count'] = 10 * config['instance_count']\n",
    "\n",
    "# target utilization\n",
    "target_util = 0.7\n",
    "\n",
    "\n",
    "# model_config = {\n",
    "#     # 'instance_count' should be added for each state\n",
    "#     'max_conc': 100,\n",
    "#     'arrival_rate_total': 10,\n",
    "#     'alpha': 0.11,\n",
    "#     'base_service_time_ms': 1154,\n",
    "#     'max_container_count': 25,\n",
    "#     'target_conc': 1*target_util, # assumes target utilization\n",
    "#     'max_scale_up_rate': 1000, # from N to 1000*N at most\n",
    "#     'max_scale_down_rate': 2, # from N to N/2 at most\n",
    "#     # 'stable_conc_avg_count': 60, # number of times monitored concurrency will be averaged in stable mode\n",
    "#     'autoscaling_interval': 2, # amount of time between autoscaling evaluations\n",
    "#     'provision_rate_base': 1,\n",
    "#     'deprovision_rate_base': 2,\n",
    "# }\n",
    "\n",
    "# trying new model extracted params\n",
    "model_config = {\n",
    "    # 'instance_count' should be added for each state\n",
    "    'max_conc': 10,\n",
    "    'arrival_rate_total': 10,\n",
    "    'alpha': 0.112,\n",
    "    'base_service_time_ms': 1180,\n",
    "    'max_container_count': 40,\n",
    "    'target_conc': 1*target_util, # assumes target utilization\n",
    "    'max_scale_up_rate': 1000, # from N to 1000*N at most\n",
    "    'max_scale_down_rate': 2, # from N to N/2 at most\n",
    "    # 'stable_conc_avg_count': 60, # number of times monitored concurrency will be averaged in stable mode\n",
    "    'autoscaling_interval': 2, # amount of time between autoscaling evaluations\n",
    "    'provision_rate_base': 1,\n",
    "    'deprovision_rate_base': 2,\n",
    "}\n",
    "\n",
    "# test\n",
    "# model_config = {\n",
    "#     # 'instance_count' should be added for each state\n",
    "#     'max_conc': 100,\n",
    "#     'arrival_rate_total': 15,\n",
    "#     'alpha': 1,\n",
    "#     'base_service_time_ms': 120,\n",
    "#     'max_container_count': 25,\n",
    "#     'target_conc': 1*target_util, # assumes target utilization\n",
    "#     'max_scale_up_rate': 1000, # from N to 1000*N at most\n",
    "#     'max_scale_down_rate': 2, # from N to N/2 at most\n",
    "#     # 'stable_conc_avg_count': 60, # number of times monitored concurrency will be averaged in stable mode\n",
    "#     'autoscaling_interval': 2, # amount of time between autoscaling evaluations\n",
    "#     'provision_rate_base': 1,\n",
    "#     'deprovision_rate_base': 2,\n",
    "# }"
   ]
  },
  {
   "cell_type": "code",
   "execution_count": 3,
   "metadata": {},
   "outputs": [],
   "source": [
    "# sample execution\n",
    "# res = general_model.solve_general_model(model_config, update_config)\n",
    "# res_params = general_model.calculate_general_params(res, model_config)\n",
    "# res.update(res_params)\n",
    "# res.keys()"
   ]
  },
  {
   "cell_type": "markdown",
   "metadata": {},
   "source": [
    "# Arrival Rate Plots"
   ]
  },
  {
   "cell_type": "code",
   "execution_count": 4,
   "metadata": {},
   "outputs": [
    {
     "data": {
      "application/vnd.jupyter.widget-view+json": {
       "model_id": "93a2c2a0ddd8479f93f7e3f8770a5d6a",
       "version_major": 2,
       "version_minor": 0
      },
      "text/plain": [
       "  0%|          | 0/10 [00:00<?, ?it/s]"
      ]
     },
     "metadata": {},
     "output_type": "display_data"
    },
    {
     "name": "stdout",
     "output_type": "stream",
     "text": [
      "\n",
      "new order calculation took 1833.169622182846 seconds for 10 arrival rates (183.32 per job)\n"
     ]
    }
   ],
   "source": [
    "arrival_rates = list(np.linspace(1, 30, 10))\n",
    "\n",
    "def parse_arrival_rate(arrival_rate):\n",
    "    config = {**model_config}\n",
    "    config.update({\n",
    "        'arrival_rate_total': arrival_rate,\n",
    "    })\n",
    "    res = general_model.solve_general_model(config, update_config)\n",
    "    res_params = general_model.calculate_general_params(res, config)\n",
    "    res.update(res_params)\n",
    "    res.update(config)\n",
    "    return res\n",
    "\n",
    "start_time = time.time()\n",
    "total_results = list(map(parse_arrival_rate, tqdm(arrival_rates, position=0, leave=True)))\n",
    "elapsed_time = time.time() - start_time\n",
    "print(f\"\\nnew order calculation took {elapsed_time} seconds for {len(arrival_rates)} arrival rates ({elapsed_time/len(arrival_rates):4.2f} per job)\")"
   ]
  },
  {
   "cell_type": "code",
   "execution_count": 5,
   "metadata": {},
   "outputs": [
    {
     "data": {
      "text/html": [
       "<div>\n",
       "<style scoped>\n",
       "    .dataframe tbody tr th:only-of-type {\n",
       "        vertical-align: middle;\n",
       "    }\n",
       "\n",
       "    .dataframe tbody tr th {\n",
       "        vertical-align: top;\n",
       "    }\n",
       "\n",
       "    .dataframe thead th {\n",
       "        text-align: right;\n",
       "    }\n",
       "</style>\n",
       "<table border=\"1\" class=\"dataframe\">\n",
       "  <thead>\n",
       "    <tr style=\"text-align: right;\">\n",
       "      <th></th>\n",
       "      <th>arrival_rate_total</th>\n",
       "      <th>ready_avg</th>\n",
       "      <th>ordered_avg</th>\n",
       "      <th>req_count_avg</th>\n",
       "      <th>resp_time_avg</th>\n",
       "      <th>cc</th>\n",
       "    </tr>\n",
       "  </thead>\n",
       "  <tbody>\n",
       "    <tr>\n",
       "      <th>0</th>\n",
       "      <td>1.000000</td>\n",
       "      <td>2.206791</td>\n",
       "      <td>2.243201</td>\n",
       "      <td>0.627000</td>\n",
       "      <td>1235.234943</td>\n",
       "      <td>1</td>\n",
       "    </tr>\n",
       "    <tr>\n",
       "      <th>1</th>\n",
       "      <td>4.222222</td>\n",
       "      <td>8.063513</td>\n",
       "      <td>8.137492</td>\n",
       "      <td>0.677914</td>\n",
       "      <td>1235.575948</td>\n",
       "      <td>1</td>\n",
       "    </tr>\n",
       "    <tr>\n",
       "      <th>2</th>\n",
       "      <td>7.444444</td>\n",
       "      <td>13.896106</td>\n",
       "      <td>13.995472</td>\n",
       "      <td>0.688656</td>\n",
       "      <td>1236.116171</td>\n",
       "      <td>1</td>\n",
       "    </tr>\n",
       "    <tr>\n",
       "      <th>3</th>\n",
       "      <td>10.666667</td>\n",
       "      <td>19.700334</td>\n",
       "      <td>19.822045</td>\n",
       "      <td>0.694413</td>\n",
       "      <td>1236.497829</td>\n",
       "      <td>1</td>\n",
       "    </tr>\n",
       "    <tr>\n",
       "      <th>4</th>\n",
       "      <td>13.888889</td>\n",
       "      <td>25.576620</td>\n",
       "      <td>25.716015</td>\n",
       "      <td>0.695434</td>\n",
       "      <td>1236.538132</td>\n",
       "      <td>1</td>\n",
       "    </tr>\n",
       "    <tr>\n",
       "      <th>5</th>\n",
       "      <td>17.111111</td>\n",
       "      <td>31.408760</td>\n",
       "      <td>31.565357</td>\n",
       "      <td>0.697342</td>\n",
       "      <td>1236.704884</td>\n",
       "      <td>1</td>\n",
       "    </tr>\n",
       "    <tr>\n",
       "      <th>6</th>\n",
       "      <td>20.333333</td>\n",
       "      <td>37.091018</td>\n",
       "      <td>37.246366</td>\n",
       "      <td>0.701351</td>\n",
       "      <td>1237.053160</td>\n",
       "      <td>1</td>\n",
       "    </tr>\n",
       "    <tr>\n",
       "      <th>7</th>\n",
       "      <td>23.555556</td>\n",
       "      <td>39.871103</td>\n",
       "      <td>39.894089</td>\n",
       "      <td>0.758179</td>\n",
       "      <td>1241.950300</td>\n",
       "      <td>1</td>\n",
       "    </tr>\n",
       "    <tr>\n",
       "      <th>8</th>\n",
       "      <td>26.777778</td>\n",
       "      <td>39.974032</td>\n",
       "      <td>39.987026</td>\n",
       "      <td>0.869635</td>\n",
       "      <td>1251.977747</td>\n",
       "      <td>1</td>\n",
       "    </tr>\n",
       "    <tr>\n",
       "      <th>9</th>\n",
       "      <td>30.000000</td>\n",
       "      <td>39.969872</td>\n",
       "      <td>39.984960</td>\n",
       "      <td>0.986112</td>\n",
       "      <td>1262.689425</td>\n",
       "      <td>1</td>\n",
       "    </tr>\n",
       "  </tbody>\n",
       "</table>\n",
       "</div>"
      ],
      "text/plain": [
       "   arrival_rate_total  ready_avg  ordered_avg  req_count_avg  resp_time_avg  \\\n",
       "0            1.000000   2.206791     2.243201       0.627000    1235.234943   \n",
       "1            4.222222   8.063513     8.137492       0.677914    1235.575948   \n",
       "2            7.444444  13.896106    13.995472       0.688656    1236.116171   \n",
       "3           10.666667  19.700334    19.822045       0.694413    1236.497829   \n",
       "4           13.888889  25.576620    25.716015       0.695434    1236.538132   \n",
       "5           17.111111  31.408760    31.565357       0.697342    1236.704884   \n",
       "6           20.333333  37.091018    37.246366       0.701351    1237.053160   \n",
       "7           23.555556  39.871103    39.894089       0.758179    1241.950300   \n",
       "8           26.777778  39.974032    39.987026       0.869635    1251.977747   \n",
       "9           30.000000  39.969872    39.984960       0.986112    1262.689425   \n",
       "\n",
       "   cc  \n",
       "0   1  \n",
       "1   1  \n",
       "2   1  \n",
       "3   1  \n",
       "4   1  \n",
       "5   1  \n",
       "6   1  \n",
       "7   1  \n",
       "8   1  \n",
       "9   1  "
      ]
     },
     "execution_count": 5,
     "metadata": {},
     "output_type": "execute_result"
    }
   ],
   "source": [
    "extract_keys = [\n",
    "    'arrival_rate_total', \n",
    "    'ready_avg', \n",
    "    'ordered_avg', \n",
    "    'req_count_avg', \n",
    "    'resp_time_avg', \n",
    "]\n",
    "\n",
    "def extract_params(total_results, model_config):\n",
    "    extract_vals = []\n",
    "    for r in total_results:\n",
    "        extract_vals.append({k:r[k] for k in extract_keys})\n",
    "    resdf = pd.DataFrame(data=extract_vals)\n",
    "    resdf['cc'] = int(model_config['target_conc']/target_util)\n",
    "    return resdf\n",
    "\n",
    "\n",
    "resdf = extract_params(total_results, model_config)\n",
    "resdf"
   ]
  },
  {
   "cell_type": "code",
   "execution_count": 6,
   "metadata": {},
   "outputs": [
    {
     "data": {
      "text/plain": [
       "<matplotlib.legend.Legend at 0x20015073848>"
      ]
     },
     "execution_count": 6,
     "metadata": {},
     "output_type": "execute_result"
    },
    {
     "data": {
      "image/png": "[encoded data removed]",
      "text/plain": [
       "<Figure size 576x288 with 1 Axes>"
      ]
     },
     "metadata": {
      "needs_background": "light"
     },
     "output_type": "display_data"
    }
   ],
   "source": [
    "def default_plt_configs():\n",
    "    plt.figure(figsize=(8,4))\n",
    "    plt.grid(True)\n",
    "    plt.tight_layout()\n",
    "    plt.xlabel('Arrival Rate')\n",
    "\n",
    "default_plt_configs()\n",
    "# number of ordered instances\n",
    "plt.plot(resdf['arrival_rate_total'], resdf['ordered_avg'], label='Ordered')\n",
    "# number of ready instances\n",
    "plt.plot(resdf['arrival_rate_total'], resdf['ready_avg'], label='Ready')\n",
    "plt.legend()"
   ]
  },
  {
   "cell_type": "code",
   "execution_count": 7,
   "metadata": {},
   "outputs": [
    {
     "data": {
      "text/plain": [
       "[<matplotlib.lines.Line2D at 0x20015156dc8>]"
      ]
     },
     "execution_count": 7,
     "metadata": {},
     "output_type": "execute_result"
    },
    {
     "data": {
      "image/png": "[encoded data removed]",
      "text/plain": [
       "<Figure size 576x288 with 1 Axes>"
      ]
     },
     "metadata": {
      "needs_background": "light"
     },
     "output_type": "display_data"
    }
   ],
   "source": [
    "default_plt_configs()\n",
    "# average response time\n",
    "plt.plot(resdf['arrival_rate_total'], resdf['resp_time_avg'])"
   ]
  },
  {
   "cell_type": "code",
   "execution_count": 8,
   "metadata": {},
   "outputs": [
    {
     "data": {
      "text/plain": [
       "[<matplotlib.lines.Line2D at 0x2001519fa48>]"
      ]
     },
     "execution_count": 8,
     "metadata": {},
     "output_type": "execute_result"
    },
    {
     "data": {
      "image/png": "[encoded data removed]",
      "text/plain": [
       "<Figure size 576x288 with 1 Axes>"
      ]
     },
     "metadata": {
      "needs_background": "light"
     },
     "output_type": "display_data"
    }
   ],
   "source": [
    "# average concurrency per server\n",
    "default_plt_configs()\n",
    "plt.plot(resdf['arrival_rate_total'], resdf['req_count_avg'])"
   ]
  },
  {
   "cell_type": "markdown",
   "metadata": {},
   "source": [
    "# Overall Arrival Rate Plots"
   ]
  },
  {
   "cell_type": "code",
   "execution_count": null,
   "metadata": {},
   "outputs": [
    {
     "data": {
      "application/vnd.jupyter.widget-view+json": {
       "model_id": "64266c4f462c44cca951cc5020d190e7",
       "version_major": 2,
       "version_minor": 0
      },
      "text/plain": [
       "  0%|          | 0/10 [00:00<?, ?it/s]"
      ]
     },
     "metadata": {},
     "output_type": "display_data"
    }
   ],
   "source": [
    "# calculate parameters for differenct concurrencies\n",
    "# ccs = [1,2,4,8,16]\n",
    "ccs = [1,3,5]\n",
    "\n",
    "tresdf = pd.DataFrame()\n",
    "for cc in ccs:\n",
    "    model_config.update({\n",
    "        'target_conc': cc * target_util,\n",
    "    })\n",
    "    total_results = list(map(parse_arrival_rate, tqdm(arrival_rates, position=0, leave=True)))\n",
    "    resdf = extract_params(total_results, model_config)\n",
    "    tresdf = tresdf.append(resdf)"
   ]
  },
  {
   "cell_type": "code",
   "execution_count": null,
   "metadata": {},
   "outputs": [],
   "source": [
    "total_res = tresdf.set_index('arrival_rate_total')\n",
    "total_res['cc_legend'] = total_res['cc'].apply(lambda x: f\"CC={x:2.0f}\")\n",
    "tresdf.head()"
   ]
  },
  {
   "cell_type": "code",
   "execution_count": null,
   "metadata": {},
   "outputs": [],
   "source": [
    "# number of instances plot\n",
    "default_plt_configs()\n",
    "total_res.groupby('cc_legend')['ready_avg'].plot(legend=True)\n",
    "plt.ylabel('Ready Instance Count')\n",
    "plt.xlim([0,20])\n",
    "plt.grid(True)"
   ]
  },
  {
   "cell_type": "code",
   "execution_count": null,
   "metadata": {},
   "outputs": [],
   "source": [
    "# concurrency per server (needs further investigation)\n",
    "default_plt_configs()\n",
    "plt.ylabel('Average Concurrency Level')\n",
    "total_res['test_req_count_avg'] = total_res['req_count_avg'] / 1.2\n",
    "total_res.groupby('cc_legend')['test_req_count_avg'].plot(legend=True)\n",
    "plt.grid(True)\n",
    "# plt.ylim([0,5])\n",
    "plt.xlim([0,20])"
   ]
  },
  {
   "cell_type": "code",
   "execution_count": null,
   "metadata": {},
   "outputs": [],
   "source": []
  }
 ],
 "metadata": {
  "kernelspec": {
   "display_name": "Python 3",
   "language": "python",
   "name": "python3"
  },
  "language_info": {
   "codemirror_mode": {
    "name": "ipython",
    "version": 3
   },
   "file_extension": ".py",
   "mimetype": "text/x-python",
   "name": "python",
   "nbconvert_exporter": "python",
   "pygments_lexer": "ipython3",
   "version": "3.7.9"
  }
 },
 "nbformat": 4,
 "nbformat_minor": 4
}
