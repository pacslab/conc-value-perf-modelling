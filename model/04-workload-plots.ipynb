{
 "metadata": {
  "language_info": {
   "codemirror_mode": {
    "name": "ipython",
    "version": 3
   },
   "file_extension": ".py",
   "mimetype": "text/x-python",
   "name": "python",
   "nbconvert_exporter": "python",
   "pygments_lexer": "ipython3",
   "version": "3.7.9-final"
  },
  "orig_nbformat": 2,
  "kernelspec": {
   "name": "python3",
   "display_name": "Python 3",
   "language": "python"
  }
 },
 "nbformat": 4,
 "nbformat_minor": 2,
 "cells": [
  {
   "cell_type": "code",
   "execution_count": 1,
   "metadata": {},
   "outputs": [],
   "source": [
    "%load_ext autoreload\n",
    "%autoreload 2\n",
    "# imports\n",
    "import time\n",
    "\n",
    "# important libraries\n",
    "import numpy as np\n",
    "import pandas as pd\n",
    "import matplotlib.pyplot as plt\n",
    "import seaborn as sns\n",
    "import scipy.stats as stats\n",
    "import scipy as sp\n",
    "\n",
    "from tqdm.auto import tqdm\n",
    "import itertools\n",
    "\n",
    "# for better printing of variables\n",
    "from IPython.display import display\n",
    "\n",
    "# custom imports\n",
    "from concperf import single_model, general_model\n",
    "from concperf import utility"
   ]
  },
  {
   "cell_type": "code",
   "execution_count": 2,
   "metadata": {},
   "outputs": [],
   "source": [
    "# update configuration dictionary for each instance count\n",
    "def update_config(config):\n",
    "    config['arrival_rate_server'] = config['arrival_rate_total'] / config['instance_count']\n",
    "    config['base_service_time'] = config['base_service_time_ms'] / 1000\n",
    "    config['stable_conc_avg_count'] = 10 * config['instance_count']\n",
    "\n",
    "model_config = {\n",
    "    # 'instance_count' should be added for each state\n",
    "    'max_conc': 100,\n",
    "    'arrival_rate_total': 10,\n",
    "    'alpha': 0.11,\n",
    "    'base_service_time_ms': 1154,\n",
    "    'max_container_count': 25,\n",
    "    'target_conc': 2*0.7, # assumes target utilization\n",
    "    'max_scale_up_rate': 1000, # from N to 1000*N at most\n",
    "    'max_scale_down_rate': 2, # from N to N/2 at most\n",
    "    # 'stable_conc_avg_count': 60, # number of times monitored concurrency will be averaged in stable mode\n",
    "    'autoscaling_interval': 2, # amount of time between autoscaling evaluations\n",
    "    'provision_rate_base': 1,\n",
    "    'deprovision_rate_base': 2,\n",
    "}\n",
    "\n",
    "# test\n",
    "# model_config = {\n",
    "#     # 'instance_count' should be added for each state\n",
    "#     'max_conc': 100,\n",
    "#     'arrival_rate_total': 15,\n",
    "#     'alpha': 1,\n",
    "#     'base_service_time_ms': 400,\n",
    "#     'max_container_count': 25,\n",
    "#     'target_conc': 16*0.7, # assumes target utilization\n",
    "#     'max_scale_up_rate': 1000, # from N to 1000*N at most\n",
    "#     'max_scale_down_rate': 2, # from N to N/2 at most\n",
    "#     # 'stable_conc_avg_count': 60, # number of times monitored concurrency will be averaged in stable mode\n",
    "#     'autoscaling_interval': 2, # amount of time between autoscaling evaluations\n",
    "#     'provision_rate_base': 1,\n",
    "#     'deprovision_rate_base': 2,\n",
    "# }"
   ]
  },
  {
   "cell_type": "code",
   "execution_count": 3,
   "metadata": {},
   "outputs": [],
   "source": [
    "# sample execution\n",
    "# res = general_model.solve_general_model(model_config, update_config)\n",
    "# res_params = general_model.calculate_general_params(res, model_config)\n",
    "# res.update(res_params)\n",
    "# res.keys()"
   ]
  },
  {
   "source": [
    "# Arrival Rate Plots"
   ],
   "cell_type": "markdown",
   "metadata": {}
  },
  {
   "cell_type": "code",
   "execution_count": 4,
   "metadata": {},
   "outputs": [
    {
     "output_type": "stream",
     "name": "stderr",
     "text": [
      "100%|██████████| 10/10 [05:53<00:00, 35.38s/it]\n",
      "new order calculation took 353.8593850135803 seconds for 10 arrival rates (35.39 per job)\n",
      "\n"
     ]
    }
   ],
   "source": [
    "arrival_rates = list(np.linspace(1, 20, 10))\n",
    "\n",
    "def parse_arrival_rate(arrival_rate):\n",
    "    config = {**model_config}\n",
    "    config.update({\n",
    "        'arrival_rate_total': arrival_rate,\n",
    "    })\n",
    "    res = general_model.solve_general_model(config, update_config)\n",
    "    res_params = general_model.calculate_general_params(res, config)\n",
    "    res.update(res_params)\n",
    "    res.update(config)\n",
    "    return res\n",
    "\n",
    "start_time = time.time()\n",
    "total_results = list(map(parse_arrival_rate, tqdm(arrival_rates, position=0, leave=True)))\n",
    "elapsed_time = time.time() - start_time\n",
    "print(f\"\\nnew order calculation took {elapsed_time} seconds for {len(arrival_rates)} arrival rates ({elapsed_time/len(arrival_rates):4.2f} per job)\")"
   ]
  },
  {
   "cell_type": "code",
   "execution_count": 7,
   "metadata": {},
   "outputs": [
    {
     "output_type": "execute_result",
     "data": {
      "text/plain": [
       "   arrival_rate_total  ready_avg  ordered_avg  req_count_avg  resp_time_avg\n",
       "0            1.000000   1.298907     1.326205       1.111127    1250.475252\n",
       "1            3.111111   3.366763     3.402555       1.255345    1260.270016\n",
       "2            5.222222   5.370668     5.415210       1.308557    1264.105955\n",
       "3            7.333333   7.373173     7.426605       1.335912    1266.357849\n",
       "4            9.444444   9.356835     9.416909       1.354622    1267.946534\n",
       "5           11.555556  11.375936    11.443492       1.362570    1268.621667\n",
       "6           13.666667  13.373917    13.446792       1.371017    1269.412314\n",
       "7           15.777778  15.379620    15.459583       1.377570    1270.103421\n",
       "8           17.888889  17.364914    17.449889       1.384200    1270.770915\n",
       "9           20.000000  19.361245    19.452688       1.389618    1271.393905"
      ],
      "text/html": "<div>\n<style scoped>\n    .dataframe tbody tr th:only-of-type {\n        vertical-align: middle;\n    }\n\n    .dataframe tbody tr th {\n        vertical-align: top;\n    }\n\n    .dataframe thead th {\n        text-align: right;\n    }\n</style>\n<table border=\"1\" class=\"dataframe\">\n  <thead>\n    <tr style=\"text-align: right;\">\n      <th></th>\n      <th>arrival_rate_total</th>\n      <th>ready_avg</th>\n      <th>ordered_avg</th>\n      <th>req_count_avg</th>\n      <th>resp_time_avg</th>\n    </tr>\n  </thead>\n  <tbody>\n    <tr>\n      <th>0</th>\n      <td>1.000000</td>\n      <td>1.298907</td>\n      <td>1.326205</td>\n      <td>1.111127</td>\n      <td>1250.475252</td>\n    </tr>\n    <tr>\n      <th>1</th>\n      <td>3.111111</td>\n      <td>3.366763</td>\n      <td>3.402555</td>\n      <td>1.255345</td>\n      <td>1260.270016</td>\n    </tr>\n    <tr>\n      <th>2</th>\n      <td>5.222222</td>\n      <td>5.370668</td>\n      <td>5.415210</td>\n      <td>1.308557</td>\n      <td>1264.105955</td>\n    </tr>\n    <tr>\n      <th>3</th>\n      <td>7.333333</td>\n      <td>7.373173</td>\n      <td>7.426605</td>\n      <td>1.335912</td>\n      <td>1266.357849</td>\n    </tr>\n    <tr>\n      <th>4</th>\n      <td>9.444444</td>\n      <td>9.356835</td>\n      <td>9.416909</td>\n      <td>1.354622</td>\n      <td>1267.946534</td>\n    </tr>\n    <tr>\n      <th>5</th>\n      <td>11.555556</td>\n      <td>11.375936</td>\n      <td>11.443492</td>\n      <td>1.362570</td>\n      <td>1268.621667</td>\n    </tr>\n    <tr>\n      <th>6</th>\n      <td>13.666667</td>\n      <td>13.373917</td>\n      <td>13.446792</td>\n      <td>1.371017</td>\n      <td>1269.412314</td>\n    </tr>\n    <tr>\n      <th>7</th>\n      <td>15.777778</td>\n      <td>15.379620</td>\n      <td>15.459583</td>\n      <td>1.377570</td>\n      <td>1270.103421</td>\n    </tr>\n    <tr>\n      <th>8</th>\n      <td>17.888889</td>\n      <td>17.364914</td>\n      <td>17.449889</td>\n      <td>1.384200</td>\n      <td>1270.770915</td>\n    </tr>\n    <tr>\n      <th>9</th>\n      <td>20.000000</td>\n      <td>19.361245</td>\n      <td>19.452688</td>\n      <td>1.389618</td>\n      <td>1271.393905</td>\n    </tr>\n  </tbody>\n</table>\n</div>"
     },
     "metadata": {},
     "execution_count": 7
    }
   ],
   "source": [
    "extract_keys = [\n",
    "    'arrival_rate_total', \n",
    "    'ready_avg', \n",
    "    'ordered_avg', \n",
    "    'req_count_avg', \n",
    "    'resp_time_avg', \n",
    "]\n",
    "\n",
    "extract_vals = []\n",
    "for r in total_results:\n",
    "    extract_vals.append({k:r[k] for k in extract_keys})\n",
    "\n",
    "pd.DataFrame(data=extract_vals)"
   ]
  }
 ]
}