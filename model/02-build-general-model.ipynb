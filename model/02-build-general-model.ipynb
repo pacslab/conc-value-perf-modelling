{
 "metadata": {
  "language_info": {
   "codemirror_mode": {
    "name": "ipython",
    "version": 3
   },
   "file_extension": ".py",
   "mimetype": "text/x-python",
   "name": "python",
   "nbconvert_exporter": "python",
   "pygments_lexer": "ipython3",
   "version": "3.7.9-final"
  },
  "orig_nbformat": 2,
  "kernelspec": {
   "name": "python3",
   "display_name": "Python 3",
   "language": "python"
  }
 },
 "nbformat": 4,
 "nbformat_minor": 2,
 "cells": [
  {
   "source": [
    "# Building The General Model\n",
    "\n",
    "Using the analysis created by the previous sections, we will try to build and solve the\n",
    "general model for concurrency value autoscaling.\n",
    "\n",
    "\n",
    "One important thing to note here is that the general model is evaluated every 2 seconds\n",
    "because of the inherent autoscaling evaluation period of 2 seconds in knative. As a result\n",
    "we need to convert the rates of provisioning and deprovisioning of containers from\n",
    "time rates into probability rates (from CTMC to DTCM parameters)."
   ],
   "cell_type": "markdown",
   "metadata": {}
  },
  {
   "cell_type": "code",
   "execution_count": 1,
   "metadata": {},
   "outputs": [],
   "source": [
    "%load_ext autoreload\n",
    "%autoreload 2\n",
    "# imports\n",
    "\n",
    "# important libraries\n",
    "import numpy as np\n",
    "import pandas as pd\n",
    "import matplotlib.pyplot as plt\n",
    "import seaborn as sns\n",
    "import scipy.stats as stats\n",
    "import scipy as sp\n",
    "\n",
    "from tqdm.auto import tqdm\n",
    "import itertools\n",
    "\n",
    "# for better printing of variables\n",
    "from IPython.display import display\n",
    "\n",
    "# custom imports\n",
    "from concperf import single_model, general_model\n",
    "from concperf import utility"
   ]
  },
  {
   "cell_type": "code",
   "execution_count": 2,
   "metadata": {},
   "outputs": [],
   "source": [
    "# update configuration dictionary for each instance count\n",
    "def update_config(config):\n",
    "    config['arrival_rate_server'] = config['arrival_rate_total'] / config['instance_count']\n",
    "    config['base_service_time'] = config['base_service_time_ms'] / 1000\n",
    "\n",
    "model_config = {\n",
    "    # 'instance_count' should be added for each state\n",
    "    'max_conc': 10,\n",
    "    'arrival_rate_total': 5,\n",
    "    'alpha': 0.11,\n",
    "    'base_service_time_ms': 1154,\n",
    "    'max_container_count': 25,\n",
    "    'target_conc': 0.7, # assumes target utilization\n",
    "    'max_scale_up_rate': 1000, # from N to 1000*N at most\n",
    "    'max_scale_down_rate': 2, # from N to N/2 at most\n",
    "    'stable_conc_avg_count': 300, # number of times monitored concurrency will be averaged in stable mode\n",
    "    'autoscaling_interval': 2, # amount of time between autoscaling evaluations\n",
    "    'provision_rate_base': 1,\n",
    "    'deprovision_rate_base': 2,\n",
    "}\n",
    "\n",
    "single_coder = single_model.StateCoder(config=model_config)"
   ]
  },
  {
   "cell_type": "code",
   "execution_count": 3,
   "metadata": {},
   "outputs": [
    {
     "output_type": "stream",
     "name": "stdout",
     "text": [
      "Number of states: 676\n"
     ]
    },
    {
     "output_type": "display_data",
     "data": {
      "text/plain": "[(0, 0),\n (0, 1),\n (0, 2),\n (0, 3),\n (0, 4),\n (0, 5),\n (0, 6),\n (0, 7),\n (0, 8),\n (0, 9)]"
     },
     "metadata": {}
    }
   ],
   "source": [
    "general_state_coder = general_model.StateCoder(model_config)\n",
    "print('Number of states:', general_state_coder.get_state_count())\n",
    "display(general_state_coder.get_state_list()[:10])"
   ]
  },
  {
   "cell_type": "code",
   "execution_count": 4,
   "metadata": {},
   "outputs": [
    {
     "output_type": "execute_result",
     "data": {
      "text/plain": [
       "array([0.13533528, 0.11701964, 0.10118276, 0.08748916, 0.07564879,\n",
       "       0.06541084, 0.05655845, 0.04890409, 0.04228564, 0.27016534])"
      ]
     },
     "metadata": {},
     "execution_count": 4
    }
   ],
   "source": [
    "probs = utility.get_trans_probs(10, transition_rate_base=1, max_t=model_config['autoscaling_interval'])\n",
    "probs"
   ]
  },
  {
   "cell_type": "code",
   "execution_count": 5,
   "metadata": {},
   "outputs": [
    {
     "output_type": "display_data",
     "data": {
      "text/plain": "(array([1, 2, 3]), array([0.13533528, 0.11701964, 0.74764507]))"
     },
     "metadata": {}
    },
    {
     "output_type": "display_data",
     "data": {
      "text/plain": "(array([3, 2, 1]), array([0.01831564, 0.01798018, 0.96370418]))"
     },
     "metadata": {}
    }
   ],
   "source": [
    "# NOTE: This part assumes delay center to allow scalability\n",
    "# TODO: Allow changing delay center to single server queue with config\n",
    "display(general_model.get_trans_probabilities(ready_count=1, ordered_count=3, config=model_config))\n",
    "display(general_model.get_trans_probabilities(ready_count=3, ordered_count=1, config=model_config))"
   ]
  },
  {
   "cell_type": "code",
   "execution_count": 6,
   "metadata": {
    "tags": []
   },
   "outputs": [
    {
     "output_type": "stream",
     "name": "stderr",
     "text": [
      "  0%|          | 0/25 [00:00<?, ?it/s]new order calculation took 1.071171760559082 seconds for 1 instances\n",
      "  4%|▍         | 1/25 [00:01<00:41,  1.73s/it]new order calculation took 1.0717754364013672 seconds for 2 instances\n",
      "  8%|▊         | 2/25 [00:03<00:39,  1.70s/it]new order calculation took 0.8257021903991699 seconds for 3 instances\n",
      " 12%|█▏        | 3/25 [00:04<00:34,  1.57s/it]new order calculation took 0.7172327041625977 seconds for 4 instances\n",
      " 16%|█▌        | 4/25 [00:06<00:30,  1.45s/it]new order calculation took 0.5988836288452148 seconds for 5 instances\n",
      " 20%|██        | 5/25 [00:07<00:26,  1.33s/it]new order calculation took 0.5240240097045898 seconds for 6 instances\n",
      " 24%|██▍       | 6/25 [00:08<00:23,  1.22s/it]new order calculation took 0.4715859889984131 seconds for 7 instances\n",
      " 28%|██▊       | 7/25 [00:09<00:20,  1.12s/it]new order calculation took 0.4360344409942627 seconds for 8 instances\n",
      " 32%|███▏      | 8/25 [00:09<00:17,  1.03s/it]new order calculation took 0.45699548721313477 seconds for 9 instances\n",
      " 36%|███▌      | 9/25 [00:10<00:16,  1.00s/it]new order calculation took 0.5429713726043701 seconds for 10 instances\n",
      " 40%|████      | 10/25 [00:11<00:15,  1.01s/it]new order calculation took 0.4919769763946533 seconds for 11 instances\n",
      " 44%|████▍     | 11/25 [00:12<00:14,  1.00s/it]new order calculation took 0.4779982566833496 seconds for 12 instances\n",
      " 48%|████▊     | 12/25 [00:13<00:12,  1.02it/s]new order calculation took 0.36503124237060547 seconds for 13 instances\n",
      " 52%|█████▏    | 13/25 [00:14<00:10,  1.10it/s]new order calculation took 0.34999990463256836 seconds for 14 instances\n",
      " 56%|█████▌    | 14/25 [00:15<00:09,  1.17it/s]new order calculation took 0.31003284454345703 seconds for 15 instances\n",
      " 60%|██████    | 15/25 [00:15<00:08,  1.24it/s]new order calculation took 0.3060417175292969 seconds for 16 instances\n",
      " 64%|██████▍   | 16/25 [00:16<00:06,  1.30it/s]new order calculation took 0.30300378799438477 seconds for 17 instances\n",
      " 68%|██████▊   | 17/25 [00:17<00:06,  1.32it/s]new order calculation took 0.2859663963317871 seconds for 18 instances\n",
      " 72%|███████▏  | 18/25 [00:18<00:05,  1.35it/s]new order calculation took 0.27767229080200195 seconds for 19 instances\n",
      " 76%|███████▌  | 19/25 [00:18<00:04,  1.36it/s]new order calculation took 0.2799992561340332 seconds for 20 instances\n",
      " 80%|████████  | 20/25 [00:19<00:03,  1.35it/s]new order calculation took 0.2680380344390869 seconds for 21 instances\n",
      " 84%|████████▍ | 21/25 [00:20<00:02,  1.34it/s]new order calculation took 0.26296448707580566 seconds for 22 instances\n",
      " 88%|████████▊ | 22/25 [00:21<00:02,  1.31it/s]new order calculation took 0.2539665699005127 seconds for 23 instances\n",
      " 92%|█████████▏| 23/25 [00:21<00:01,  1.28it/s]new order calculation took 0.2539803981781006 seconds for 24 instances\n",
      " 96%|█████████▌| 24/25 [00:22<00:00,  1.23it/s]new order calculation took 0.27399563789367676 seconds for 25 instances\n",
      "100%|██████████| 25/25 [00:23<00:00,  1.05it/s]\n"
     ]
    }
   ],
   "source": [
    "# find parameters for different configuration\n",
    "\n",
    "# TODO: do something about instance count of zero\n",
    "\n",
    "state_count = general_state_coder.get_state_count()\n",
    "general_Q = np.zeros((state_count, state_count))\n",
    "\n",
    "for ready_inst_count in tqdm(range(1, model_config['max_container_count']+1)):\n",
    "    # add instance count to config\n",
    "    model_config.update({\n",
    "        'instance_count': ready_inst_count,\n",
    "    })\n",
    "\n",
    "    # update the config\n",
    "    update_config(model_config)\n",
    "\n",
    "    # calculate and show Q\n",
    "    Q = single_model.get_single_container_q(single_coder, config=model_config)\n",
    "    # display(pd.DataFrame(Q))\n",
    "\n",
    "    req_count_prob = utility.solve_CTMC(Q)\n",
    "    req_df = pd.DataFrame(data = {\n",
    "        'req_count': [s[0] for s in single_coder.get_state_list()],\n",
    "        'req_count_prob': req_count_prob,\n",
    "    })\n",
    "\n",
    "    # calculate measure concurrency distribution\n",
    "    avg_count = model_config['stable_conc_avg_count']\n",
    "    import time\n",
    "    start_time = time.time()\n",
    "    req_count_averaged_vals, req_count_averaged_probs = utility.get_averaged_distribution(vals=req_df['req_count'], probs=req_df['req_count_prob'], avg_count=avg_count)\n",
    "    print(f\"new order calculation took {time.time() - start_time} seconds for {ready_inst_count} instances\")\n",
    "\n",
    "    # calculate probability of different ordered instance count\n",
    "    new_order_vals, new_order_probs = general_model.get_new_order_dist(req_count_averaged_vals, req_count_averaged_probs, model_config)\n",
    "\n",
    "    # plot the result\n",
    "    # plt.figure(figsize=(8,4))\n",
    "    # plt.bar(new_order_val, new_order_prob, width=1)\n",
    "\n",
    "    # now calculate probs according to number of ordered instances\n",
    "    for ordered_inst_count in range(1, model_config['max_container_count']+1):\n",
    "        # get idx of the \"from\" state\n",
    "        from_state_idx = general_state_coder.to_idx(state=(ordered_inst_count, ready_inst_count))\n",
    "\n",
    "        # calculate probability of number of ready instances\n",
    "        next_ready_vals, next_ready_probs = general_model.get_trans_probabilities(ready_count=ready_inst_count, ordered_count=ordered_inst_count, config=model_config)\n",
    "\n",
    "        # calculate probability for all combinations of \"to\" states\n",
    "        for new_order_idx, next_ready_idx in itertools.product(range(len(new_order_vals)), range(len(next_ready_vals))):\n",
    "            new_order_val = new_order_vals[new_order_idx]\n",
    "            new_order_prob = new_order_probs[new_order_idx]\n",
    "            next_ready_val = next_ready_vals[next_ready_idx]\n",
    "            next_ready_prob = next_ready_probs[next_ready_idx]\n",
    "\n",
    "            to_state_idx = general_state_coder.to_idx(state=(new_order_val, next_ready_val))\n",
    "            general_Q[from_state_idx, to_state_idx] = new_order_prob * next_ready_prob"
   ]
  },
  {
   "cell_type": "code",
   "execution_count": 7,
   "metadata": {},
   "outputs": [
    {
     "output_type": "execute_result",
     "data": {
      "text/plain": [
       "array([0.        , 0.        , 0.        , 0.        , 0.        ,\n",
       "       0.        , 0.        , 0.        , 0.        , 0.        ,\n",
       "       0.        , 0.        , 0.        , 0.        , 0.        ,\n",
       "       0.        , 0.        , 0.        , 0.        , 0.        ,\n",
       "       0.        , 0.        , 0.        , 0.        , 0.        ,\n",
       "       0.        , 0.        , 0.99923542, 0.99914417, 0.99935308,\n",
       "       0.99946298, 0.99954694, 0.99953359, 0.99955102, 0.99965411,\n",
       "       0.99970045, 0.99971052, 0.99971809, 0.99972849, 0.99973577,\n",
       "       0.99973652, 0.99975418, 0.99976639, 0.9997745 , 0.99978314,\n",
       "       0.99978717, 0.99978771, 0.9997921 , 0.9997958 , 0.99980373,\n",
       "       0.99981053, 0.99980927, 0.        , 0.99923542, 0.99914417,\n",
       "       0.99935308, 0.99946298, 0.99954694, 0.99953359, 0.99955102,\n",
       "       0.99965411, 0.99970045, 0.99971052, 0.99971809, 0.99972849,\n",
       "       0.99973577, 0.99973652, 0.99975418, 0.99976639, 0.9997745 ,\n",
       "       0.99978314, 0.99978717, 0.99978771, 0.9997921 , 0.9997958 ,\n",
       "       0.99980373, 0.99981053, 0.99980927, 0.        , 0.99923542,\n",
       "       0.99914417, 0.99935308, 0.99946298, 0.99954694, 0.99953359,\n",
       "       0.99955102, 0.99965411, 0.99970045, 0.99971052, 0.99971809,\n",
       "       0.99972849, 0.99973577, 0.99973652, 0.99975418, 0.99976639,\n",
       "       0.9997745 , 0.99978314, 0.99978717, 0.99978771, 0.9997921 ,\n",
       "       0.9997958 , 0.99980373, 0.99981053, 0.99980927, 0.        ,\n",
       "       0.99923542, 0.99914417, 0.99935308, 0.99946298, 0.99954694,\n",
       "       0.99953359, 0.99955102, 0.99965411, 0.99970045, 0.99971052,\n",
       "       0.99971809, 0.99972849, 0.99973577, 0.99973652, 0.99975418,\n",
       "       0.99976639, 0.9997745 , 0.99978314, 0.99978717, 0.99978771,\n",
       "       0.9997921 , 0.9997958 , 0.99980373, 0.99981053, 0.99980927,\n",
       "       0.        , 0.99923542, 0.99914417, 0.99935308, 0.99946298,\n",
       "       0.99954694, 0.99953359, 0.99955102, 0.99965411, 0.99970045,\n",
       "       0.99971052, 0.99971809, 0.99972849, 0.99973577, 0.99973652,\n",
       "       0.99975418, 0.99976639, 0.9997745 , 0.99978314, 0.99978717,\n",
       "       0.99978771, 0.9997921 , 0.9997958 , 0.99980373, 0.99981053,\n",
       "       0.99980927, 0.        , 0.99923542, 0.99914417, 0.99935308,\n",
       "       0.99946298, 0.99954694, 0.99953359, 0.99955102, 0.99965411,\n",
       "       0.99970045, 0.99971052, 0.99971809, 0.99972849, 0.99973577,\n",
       "       0.99973652, 0.99975418, 0.99976639, 0.9997745 , 0.99978314,\n",
       "       0.99978717, 0.99978771, 0.9997921 , 0.9997958 , 0.99980373,\n",
       "       0.99981053, 0.99980927, 0.        , 0.99923542, 0.99914417,\n",
       "       0.99935308, 0.99946298, 0.99954694, 0.99953359, 0.99955102,\n",
       "       0.99965411, 0.99970045, 0.99971052, 0.99971809, 0.99972849,\n",
       "       0.99973577, 0.99973652, 0.99975418, 0.99976639, 0.9997745 ,\n",
       "       0.99978314, 0.99978717, 0.99978771, 0.9997921 , 0.9997958 ,\n",
       "       0.99980373, 0.99981053, 0.99980927, 0.        , 0.99923542,\n",
       "       0.99914417, 0.99935308, 0.99946298, 0.99954694, 0.99953359,\n",
       "       0.99955102, 0.99965411, 0.99970045, 0.99971052, 0.99971809,\n",
       "       0.99972849, 0.99973577, 0.99973652, 0.99975418, 0.99976639,\n",
       "       0.9997745 , 0.99978314, 0.99978717, 0.99978771, 0.9997921 ,\n",
       "       0.9997958 , 0.99980373, 0.99981053, 0.99980927, 0.        ,\n",
       "       0.99923542, 0.99914417, 0.99935308, 0.99946298, 0.99954694,\n",
       "       0.99953359, 0.99955102, 0.99965411, 0.99970045, 0.99971052,\n",
       "       0.99971809, 0.99972849, 0.99973577, 0.99973652, 0.99975418,\n",
       "       0.99976639, 0.9997745 , 0.99978314, 0.99978717, 0.99978771,\n",
       "       0.9997921 , 0.9997958 , 0.99980373, 0.99981053, 0.99980927,\n",
       "       0.        , 0.99923542, 0.99914417, 0.99935308, 0.99946298,\n",
       "       0.99954694, 0.99953359, 0.99955102, 0.99965411, 0.99970045,\n",
       "       0.99971052, 0.99971809, 0.99972849, 0.99973577, 0.99973652,\n",
       "       0.99975418, 0.99976639, 0.9997745 , 0.99978314, 0.99978717,\n",
       "       0.99978771, 0.9997921 , 0.9997958 , 0.99980373, 0.99981053,\n",
       "       0.99980927, 0.        , 0.99923542, 0.99914417, 0.99935308,\n",
       "       0.99946298, 0.99954694, 0.99953359, 0.99955102, 0.99965411,\n",
       "       0.99970045, 0.99971052, 0.99971809, 0.99972849, 0.99973577,\n",
       "       0.99973652, 0.99975418, 0.99976639, 0.9997745 , 0.99978314,\n",
       "       0.99978717, 0.99978771, 0.9997921 , 0.9997958 , 0.99980373,\n",
       "       0.99981053, 0.99980927, 0.        , 0.99923542, 0.99914417,\n",
       "       0.99935308, 0.99946298, 0.99954694, 0.99953359, 0.99955102,\n",
       "       0.99965411, 0.99970045, 0.99971052, 0.99971809, 0.99972849,\n",
       "       0.99973577, 0.99973652, 0.99975418, 0.99976639, 0.9997745 ,\n",
       "       0.99978314, 0.99978717, 0.99978771, 0.9997921 , 0.9997958 ,\n",
       "       0.99980373, 0.99981053, 0.99980927, 0.        , 0.99923542,\n",
       "       0.99914417, 0.99935308, 0.99946298, 0.99954694, 0.99953359,\n",
       "       0.99955102, 0.99965411, 0.99970045, 0.99971052, 0.99971809,\n",
       "       0.99972849, 0.99973577, 0.99973652, 0.99975418, 0.99976639,\n",
       "       0.9997745 , 0.99978314, 0.99978717, 0.99978771, 0.9997921 ,\n",
       "       0.9997958 , 0.99980373, 0.99981053, 0.99980927, 0.        ,\n",
       "       0.99923542, 0.99914417, 0.99935308, 0.99946298, 0.99954694,\n",
       "       0.99953359, 0.99955102, 0.99965411, 0.99970045, 0.99971052,\n",
       "       0.99971809, 0.99972849, 0.99973577, 0.99973652, 0.99975418,\n",
       "       0.99976639, 0.9997745 , 0.99978314, 0.99978717, 0.99978771,\n",
       "       0.9997921 , 0.9997958 , 0.99980373, 0.99981053, 0.99980927,\n",
       "       0.        , 0.99923542, 0.99914417, 0.99935308, 0.99946298,\n",
       "       0.99954694, 0.99953359, 0.99955102, 0.99965411, 0.99970045,\n",
       "       0.99971052, 0.99971809, 0.99972849, 0.99973577, 0.99973652,\n",
       "       0.99975418, 0.99976639, 0.9997745 , 0.99978314, 0.99978717,\n",
       "       0.99978771, 0.9997921 , 0.9997958 , 0.99980373, 0.99981053,\n",
       "       0.99980927, 0.        , 0.99923542, 0.99914417, 0.99935308,\n",
       "       0.99946298, 0.99954694, 0.99953359, 0.99955102, 0.99965411,\n",
       "       0.99970045, 0.99971052, 0.99971809, 0.99972849, 0.99973577,\n",
       "       0.99973652, 0.99975418, 0.99976639, 0.9997745 , 0.99978314,\n",
       "       0.99978717, 0.99978771, 0.9997921 , 0.9997958 , 0.99980373,\n",
       "       0.99981053, 0.99980927, 0.        , 0.99923542, 0.99914417,\n",
       "       0.99935308, 0.99946298, 0.99954694, 0.99953359, 0.99955102,\n",
       "       0.99965411, 0.99970045, 0.99971052, 0.99971809, 0.99972849,\n",
       "       0.99973577, 0.99973652, 0.99975418, 0.99976639, 0.9997745 ,\n",
       "       0.99978314, 0.99978717, 0.99978771, 0.9997921 , 0.9997958 ,\n",
       "       0.99980373, 0.99981053, 0.99980927, 0.        , 0.99923542,\n",
       "       0.99914417, 0.99935308, 0.99946298, 0.99954694, 0.99953359,\n",
       "       0.99955102, 0.99965411, 0.99970045, 0.99971052, 0.99971809,\n",
       "       0.99972849, 0.99973577, 0.99973652, 0.99975418, 0.99976639,\n",
       "       0.9997745 , 0.99978314, 0.99978717, 0.99978771, 0.9997921 ,\n",
       "       0.9997958 , 0.99980373, 0.99981053, 0.99980927, 0.        ,\n",
       "       0.99923542, 0.99914417, 0.99935308, 0.99946298, 0.99954694,\n",
       "       0.99953359, 0.99955102, 0.99965411, 0.99970045, 0.99971052,\n",
       "       0.99971809, 0.99972849, 0.99973577, 0.99973652, 0.99975418,\n",
       "       0.99976639, 0.9997745 , 0.99978314, 0.99978717, 0.99978771,\n",
       "       0.9997921 , 0.9997958 , 0.99980373, 0.99981053, 0.99980927,\n",
       "       0.        , 0.99923542, 0.99914417, 0.99935308, 0.99946298,\n",
       "       0.99954694, 0.99953359, 0.99955102, 0.99965411, 0.99970045,\n",
       "       0.99971052, 0.99971809, 0.99972849, 0.99973577, 0.99973652,\n",
       "       0.99975418, 0.99976639, 0.9997745 , 0.99978314, 0.99978717,\n",
       "       0.99978771, 0.9997921 , 0.9997958 , 0.99980373, 0.99981053,\n",
       "       0.99980927, 0.        , 0.99923542, 0.99914417, 0.99935308,\n",
       "       0.99946298, 0.99954694, 0.99953359, 0.99955102, 0.99965411,\n",
       "       0.99970045, 0.99971052, 0.99971809, 0.99972849, 0.99973577,\n",
       "       0.99973652, 0.99975418, 0.99976639, 0.9997745 , 0.99978314,\n",
       "       0.99978717, 0.99978771, 0.9997921 , 0.9997958 , 0.99980373,\n",
       "       0.99981053, 0.99980927, 0.        , 0.99923542, 0.99914417,\n",
       "       0.99935308, 0.99946298, 0.99954694, 0.99953359, 0.99955102,\n",
       "       0.99965411, 0.99970045, 0.99971052, 0.99971809, 0.99972849,\n",
       "       0.99973577, 0.99973652, 0.99975418, 0.99976639, 0.9997745 ,\n",
       "       0.99978314, 0.99978717, 0.99978771, 0.9997921 , 0.9997958 ,\n",
       "       0.99980373, 0.99981053, 0.99980927, 0.        , 0.99923542,\n",
       "       0.99914417, 0.99935308, 0.99946298, 0.99954694, 0.99953359,\n",
       "       0.99955102, 0.99965411, 0.99970045, 0.99971052, 0.99971809,\n",
       "       0.99972849, 0.99973577, 0.99973652, 0.99975418, 0.99976639,\n",
       "       0.9997745 , 0.99978314, 0.99978717, 0.99978771, 0.9997921 ,\n",
       "       0.9997958 , 0.99980373, 0.99981053, 0.99980927, 0.        ,\n",
       "       0.99923542, 0.99914417, 0.99935308, 0.99946298, 0.99954694,\n",
       "       0.99953359, 0.99955102, 0.99965411, 0.99970045, 0.99971052,\n",
       "       0.99971809, 0.99972849, 0.99973577, 0.99973652, 0.99975418,\n",
       "       0.99976639, 0.9997745 , 0.99978314, 0.99978717, 0.99978771,\n",
       "       0.9997921 , 0.9997958 , 0.99980373, 0.99981053, 0.99980927,\n",
       "       0.        , 0.99923542, 0.99914417, 0.99935308, 0.99946298,\n",
       "       0.99954694, 0.99953359, 0.99955102, 0.99965411, 0.99970045,\n",
       "       0.99971052, 0.99971809, 0.99972849, 0.99973577, 0.99973652,\n",
       "       0.99975418, 0.99976639, 0.9997745 , 0.99978314, 0.99978717,\n",
       "       0.99978771, 0.9997921 , 0.9997958 , 0.99980373, 0.99981053,\n",
       "       0.99980927])"
      ]
     },
     "metadata": {},
     "execution_count": 7
    }
   ],
   "source": [
    "# when everything is fixed, this should all be ones (almost, because of rounding errors)\n",
    "general_Q.sum(axis=1)"
   ]
  }
 ]
}