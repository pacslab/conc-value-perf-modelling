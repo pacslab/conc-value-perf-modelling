{
 "cells": [
  {
   "cell_type": "code",
   "execution_count": 1,
   "metadata": {},
   "outputs": [],
   "source": [
    "%load_ext autoreload\n",
    "%autoreload 2\n",
    "# imports\n",
    "\n",
    "# important libraries\n",
    "import numpy as np\n",
    "import pandas as pd\n",
    "import matplotlib.pyplot as plt\n",
    "import seaborn as sns\n",
    "import scipy.stats as stats\n",
    "import scipy as sp\n",
    "\n",
    "from tqdm.auto import tqdm\n",
    "import itertools\n",
    "\n",
    "# for better printing of variables\n",
    "from IPython.display import display\n",
    "\n",
    "# custom imports\n",
    "from concperf import single_model, general_model\n",
    "from concperf import utility"
   ]
  },
  {
   "cell_type": "code",
   "execution_count": 2,
   "metadata": {},
   "outputs": [],
   "source": [
    "# update configuration dictionary for each instance count\n",
    "def update_config(config):\n",
    "    config['arrival_rate_server'] = config['arrival_rate_total'] / config['instance_count']\n",
    "    config['base_service_time'] = config['base_service_time_ms'] / 1000\n",
    "    config['stable_conc_avg_count'] = 10 * config['instance_count']\n",
    "\n",
    "# target utilization\n",
    "target_util = 0.7\n",
    "    \n",
    "model_config = {\n",
    "    # 'instance_count' should be added for each state\n",
    "    'max_conc': 10,\n",
    "    'arrival_rate_total': 15,\n",
    "    'alpha': 0.102,\n",
    "    'base_service_time_ms': 1180,\n",
    "    'max_container_count': 50,\n",
    "    'target_conc': 5*target_util, # assumes target utilization\n",
    "    'max_scale_up_rate': 1000, # from N to 1000*N at most\n",
    "    'max_scale_down_rate': 2, # from N to N/2 at most\n",
    "    # 'stable_conc_avg_count': 60, # number of times monitored concurrency will be averaged in stable mode\n",
    "    'autoscaling_interval': 2, # amount of time between autoscaling evaluations\n",
    "    'provision_rate_base': 1,\n",
    "    'deprovision_rate_base': 2,\n",
    "}\n",
    "\n",
    "# test\n",
    "# model_config = {\n",
    "#     # 'instance_count' should be added for each state\n",
    "#     'max_conc': 100,\n",
    "#     'arrival_rate_total': 15,\n",
    "#     'alpha': 1,\n",
    "#     'base_service_time_ms': 400,\n",
    "#     'max_container_count': 25,\n",
    "#     'target_conc': 16*0.7, # assumes target utilization\n",
    "#     'max_scale_up_rate': 1000, # from N to 1000*N at most\n",
    "#     'max_scale_down_rate': 2, # from N to N/2 at most\n",
    "#     # 'stable_conc_avg_count': 60, # number of times monitored concurrency will be averaged in stable mode\n",
    "#     'autoscaling_interval': 2, # amount of time between autoscaling evaluations\n",
    "#     'provision_rate_base': 1,\n",
    "#     'deprovision_rate_base': 2,\n",
    "# }"
   ]
  },
  {
   "cell_type": "code",
   "execution_count": 3,
   "metadata": {},
   "outputs": [
    {
     "data": {
      "application/vnd.jupyter.widget-view+json": {
       "model_id": "29c96b199a04408fbe2393d75c6a3d3c",
       "version_major": 2,
       "version_minor": 0
      },
      "text/plain": [
       "  0%|          | 0/51 [00:00<?, ?it/s]"
      ]
     },
     "metadata": {},
     "output_type": "display_data"
    },
    {
     "data": {
      "text/plain": [
       "dict_keys(['inst_count_possible_values', 'inst_count_probs', 'ready_probs', 'ordered_probs', 'req_count_probs', 'req_count_values'])"
      ]
     },
     "execution_count": 3,
     "metadata": {},
     "output_type": "execute_result"
    }
   ],
   "source": [
    "res = general_model.solve_general_model(model_config, update_config, show_progress=True)\n",
    "res.keys()"
   ]
  },
  {
   "cell_type": "code",
   "execution_count": 4,
   "metadata": {},
   "outputs": [
    {
     "name": "stdout",
     "output_type": "stream",
     "text": [
      "instances: 7.40055384821758 ready / 7.43757783611451 ordered\n"
     ]
    },
    {
     "data": {
      "image/png": "[encoded data removed]",
      "text/plain": [
       "<Figure size 576x288 with 1 Axes>"
      ]
     },
     "metadata": {
      "needs_background": "light"
     },
     "output_type": "display_data"
    },
    {
     "data": {
      "image/png": "[encoded data removed]",
      "text/plain": [
       "<Figure size 576x288 with 1 Axes>"
      ]
     },
     "metadata": {
      "needs_background": "light"
     },
     "output_type": "display_data"
    }
   ],
   "source": [
    "plt.figure(figsize=(8,4))\n",
    "plt.bar(res['inst_count_possible_values'], res['ready_probs'], width=1)\n",
    "plt.figure(figsize=(8,4))\n",
    "plt.bar(res['inst_count_possible_values'], res['ordered_probs'], width=1)\n",
    "\n",
    "ready_avg = (res['inst_count_possible_values'] * res['ready_probs']).sum()\n",
    "ordered_avg = (res['inst_count_possible_values'] * res['ordered_probs']).sum()\n",
    "\n",
    "\n",
    "print(f\"instances: {ready_avg} ready / {ordered_avg} ordered\")"
   ]
  },
  {
   "cell_type": "code",
   "execution_count": 5,
   "metadata": {},
   "outputs": [
    {
     "name": "stdout",
     "output_type": "stream",
     "text": [
      "(51, 100)\n",
      "(51,)\n",
      "Average Request Count In Each Container: 3.3053161967212477\n"
     ]
    },
    {
     "data": {
      "text/plain": [
       "(-1.0, 10.0)"
      ]
     },
     "execution_count": 5,
     "metadata": {},
     "output_type": "execute_result"
    },
    {
     "data": {
      "image/png": "[encoded data removed]",
      "text/plain": [
       "<Figure size 576x288 with 1 Axes>"
      ]
     },
     "metadata": {
      "needs_background": "light"
     },
     "output_type": "display_data"
    }
   ],
   "source": [
    "# weighted probability of request count in each container\n",
    "print(res['req_count_probs'].shape)\n",
    "print(res['ready_probs'].shape)\n",
    "\n",
    "req_count_probs_weighted = res['req_count_probs'].T @ res['ready_probs']\n",
    "req_count_avg = (res['req_count_values'] * req_count_probs_weighted).sum()\n",
    "print('Average Request Count In Each Container:', req_count_avg)\n",
    "\n",
    "plt.figure(figsize=(8,4))\n",
    "plt.bar(res['req_count_values'], req_count_probs_weighted, width=0.1)\n",
    "plt.xlim([-1,10])"
   ]
  },
  {
   "cell_type": "code",
   "execution_count": 6,
   "metadata": {},
   "outputs": [
    {
     "name": "stdout",
     "output_type": "stream",
     "text": [
      "Average Response Time: 1457.47\n"
     ]
    }
   ],
   "source": [
    "resp_time_counts = res['req_count_values'][1:]\n",
    "resp_time_counts_probs = req_count_probs_weighted[1:] / (1- req_count_probs_weighted[0])\n",
    "resp_time_values = model_config['base_service_time_ms'] * (1 + (resp_time_counts - 1) * model_config['alpha'])\n",
    "\n",
    "resp_time_avg = (resp_time_values * resp_time_counts_probs).sum()\n",
    "print(f'Average Response Time: {resp_time_avg:4.2f}')"
   ]
  }
 ],
 "metadata": {
  "kernelspec": {
   "display_name": "Python 3",
   "language": "python",
   "name": "python3"
  },
  "language_info": {
   "codemirror_mode": {
    "name": "ipython",
    "version": 3
   },
   "file_extension": ".py",
   "mimetype": "text/x-python",
   "name": "python",
   "nbconvert_exporter": "python",
   "pygments_lexer": "ipython3",
   "version": "3.7.9"
  }
 },
 "nbformat": 4,
 "nbformat_minor": 4
}
