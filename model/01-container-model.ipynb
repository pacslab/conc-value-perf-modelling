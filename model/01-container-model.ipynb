{
 "metadata": {
  "language_info": {
   "codemirror_mode": {
    "name": "ipython",
    "version": 3
   },
   "file_extension": ".py",
   "mimetype": "text/x-python",
   "name": "python",
   "nbconvert_exporter": "python",
   "pygments_lexer": "ipython3",
   "version": "3.7.9-final"
  },
  "orig_nbformat": 2,
  "kernelspec": {
   "name": "python3",
   "display_name": "Python 3",
   "language": "python"
  }
 },
 "nbformat": 4,
 "nbformat_minor": 2,
 "cells": [
  {
   "source": [
    "# Single Container Model Development\n",
    "\n",
    "In this notebook, our goal is to develop the necessary model for a single container\n",
    "with varying concurrency levels.\n"
   ],
   "cell_type": "markdown",
   "metadata": {}
  },
  {
   "cell_type": "code",
   "execution_count": 1,
   "metadata": {},
   "outputs": [],
   "source": [
    "%load_ext autoreload\n",
    "%autoreload 2\n",
    "# imports\n",
    "\n",
    "# important libraries\n",
    "import numpy as np\n",
    "import pandas as pd\n",
    "import matplotlib.pyplot as plt\n",
    "import seaborn as sns\n",
    "import scipy.stats as stats\n",
    "import scipy as sp\n",
    "\n",
    "from tqdm.auto import tqdm\n",
    "\n",
    "# for better printing of variables\n",
    "from IPython.display import display"
   ]
  },
  {
   "cell_type": "code",
   "execution_count": 2,
   "metadata": {},
   "outputs": [],
   "source": [
    "# custom imports\n",
    "from concperf import single_container_model as single_model"
   ]
  },
  {
   "cell_type": "code",
   "execution_count": 3,
   "metadata": {},
   "outputs": [
    {
     "output_type": "display_data",
     "data": {
      "text/plain": "{'instance_count': 10,\n 'max_conc': 10,\n 'arrival_rate_total': 5,\n 'alpha': 0.11,\n 'base_service_time_ms': 1154,\n 'arrival_rate_server': 0.5,\n 'base_service_time': 1.154}"
     },
     "metadata": {}
    },
    {
     "output_type": "display_data",
     "data": {
      "text/plain": "          0         1         2         3         4         5         6   \\\n0  -0.500000  0.500000  0.000000  0.000000  0.000000  0.000000  0.000000   \n1   0.866551 -1.366551  0.500000  0.000000  0.000000  0.000000  0.000000   \n2   0.000000  1.561353 -2.061353  0.500000  0.000000  0.000000  0.000000   \n3   0.000000  0.000000  2.130863 -2.630863  0.500000  0.000000  0.000000   \n4   0.000000  0.000000  0.000000  2.606169 -3.106169  0.500000  0.000000   \n5   0.000000  0.000000  0.000000  0.000000  3.008858 -3.508858  0.500000   \n6   0.000000  0.000000  0.000000  0.000000  0.000000  3.354391 -3.854391   \n7   0.000000  0.000000  0.000000  0.000000  0.000000  0.000000  3.654131   \n8   0.000000  0.000000  0.000000  0.000000  0.000000  0.000000  0.000000   \n9   0.000000  0.000000  0.000000  0.000000  0.000000  0.000000  0.000000   \n10  0.000000  0.000000  0.000000  0.000000  0.000000  0.000000  0.000000   \n\n          7         8         9         10  \n0   0.000000  0.000000  0.000000  0.000000  \n1   0.000000  0.000000  0.000000  0.000000  \n2   0.000000  0.000000  0.000000  0.000000  \n3   0.000000  0.000000  0.000000  0.000000  \n4   0.000000  0.000000  0.000000  0.000000  \n5   0.000000  0.000000  0.000000  0.000000  \n6   0.500000  0.000000  0.000000  0.000000  \n7  -4.154131  0.500000  0.000000  0.000000  \n8   3.916615 -4.416615  0.500000  0.000000  \n9   0.000000  4.148383 -4.648383  0.500000  \n10  0.000000  0.000000  4.354528 -4.354528  ",
      "text/html": "<div>\n<style scoped>\n    .dataframe tbody tr th:only-of-type {\n        vertical-align: middle;\n    }\n\n    .dataframe tbody tr th {\n        vertical-align: top;\n    }\n\n    .dataframe thead th {\n        text-align: right;\n    }\n</style>\n<table border=\"1\" class=\"dataframe\">\n  <thead>\n    <tr style=\"text-align: right;\">\n      <th></th>\n      <th>0</th>\n      <th>1</th>\n      <th>2</th>\n      <th>3</th>\n      <th>4</th>\n      <th>5</th>\n      <th>6</th>\n      <th>7</th>\n      <th>8</th>\n      <th>9</th>\n      <th>10</th>\n    </tr>\n  </thead>\n  <tbody>\n    <tr>\n      <th>0</th>\n      <td>-0.500000</td>\n      <td>0.500000</td>\n      <td>0.000000</td>\n      <td>0.000000</td>\n      <td>0.000000</td>\n      <td>0.000000</td>\n      <td>0.000000</td>\n      <td>0.000000</td>\n      <td>0.000000</td>\n      <td>0.000000</td>\n      <td>0.000000</td>\n    </tr>\n    <tr>\n      <th>1</th>\n      <td>0.866551</td>\n      <td>-1.366551</td>\n      <td>0.500000</td>\n      <td>0.000000</td>\n      <td>0.000000</td>\n      <td>0.000000</td>\n      <td>0.000000</td>\n      <td>0.000000</td>\n      <td>0.000000</td>\n      <td>0.000000</td>\n      <td>0.000000</td>\n    </tr>\n    <tr>\n      <th>2</th>\n      <td>0.000000</td>\n      <td>1.561353</td>\n      <td>-2.061353</td>\n      <td>0.500000</td>\n      <td>0.000000</td>\n      <td>0.000000</td>\n      <td>0.000000</td>\n      <td>0.000000</td>\n      <td>0.000000</td>\n      <td>0.000000</td>\n      <td>0.000000</td>\n    </tr>\n    <tr>\n      <th>3</th>\n      <td>0.000000</td>\n      <td>0.000000</td>\n      <td>2.130863</td>\n      <td>-2.630863</td>\n      <td>0.500000</td>\n      <td>0.000000</td>\n      <td>0.000000</td>\n      <td>0.000000</td>\n      <td>0.000000</td>\n      <td>0.000000</td>\n      <td>0.000000</td>\n    </tr>\n    <tr>\n      <th>4</th>\n      <td>0.000000</td>\n      <td>0.000000</td>\n      <td>0.000000</td>\n      <td>2.606169</td>\n      <td>-3.106169</td>\n      <td>0.500000</td>\n      <td>0.000000</td>\n      <td>0.000000</td>\n      <td>0.000000</td>\n      <td>0.000000</td>\n      <td>0.000000</td>\n    </tr>\n    <tr>\n      <th>5</th>\n      <td>0.000000</td>\n      <td>0.000000</td>\n      <td>0.000000</td>\n      <td>0.000000</td>\n      <td>3.008858</td>\n      <td>-3.508858</td>\n      <td>0.500000</td>\n      <td>0.000000</td>\n      <td>0.000000</td>\n      <td>0.000000</td>\n      <td>0.000000</td>\n    </tr>\n    <tr>\n      <th>6</th>\n      <td>0.000000</td>\n      <td>0.000000</td>\n      <td>0.000000</td>\n      <td>0.000000</td>\n      <td>0.000000</td>\n      <td>3.354391</td>\n      <td>-3.854391</td>\n      <td>0.500000</td>\n      <td>0.000000</td>\n      <td>0.000000</td>\n      <td>0.000000</td>\n    </tr>\n    <tr>\n      <th>7</th>\n      <td>0.000000</td>\n      <td>0.000000</td>\n      <td>0.000000</td>\n      <td>0.000000</td>\n      <td>0.000000</td>\n      <td>0.000000</td>\n      <td>3.654131</td>\n      <td>-4.154131</td>\n      <td>0.500000</td>\n      <td>0.000000</td>\n      <td>0.000000</td>\n    </tr>\n    <tr>\n      <th>8</th>\n      <td>0.000000</td>\n      <td>0.000000</td>\n      <td>0.000000</td>\n      <td>0.000000</td>\n      <td>0.000000</td>\n      <td>0.000000</td>\n      <td>0.000000</td>\n      <td>3.916615</td>\n      <td>-4.416615</td>\n      <td>0.500000</td>\n      <td>0.000000</td>\n    </tr>\n    <tr>\n      <th>9</th>\n      <td>0.000000</td>\n      <td>0.000000</td>\n      <td>0.000000</td>\n      <td>0.000000</td>\n      <td>0.000000</td>\n      <td>0.000000</td>\n      <td>0.000000</td>\n      <td>0.000000</td>\n      <td>4.148383</td>\n      <td>-4.648383</td>\n      <td>0.500000</td>\n    </tr>\n    <tr>\n      <th>10</th>\n      <td>0.000000</td>\n      <td>0.000000</td>\n      <td>0.000000</td>\n      <td>0.000000</td>\n      <td>0.000000</td>\n      <td>0.000000</td>\n      <td>0.000000</td>\n      <td>0.000000</td>\n      <td>0.000000</td>\n      <td>4.354528</td>\n      <td>-4.354528</td>\n    </tr>\n  </tbody>\n</table>\n</div>"
     },
     "metadata": {}
    },
    {
     "output_type": "display_data",
     "data": {
      "text/plain": "['0.55',\n '0.32',\n '0.10',\n '0.02',\n '0.00',\n '0.00',\n '0.00',\n '0.00',\n '0.00',\n '0.00',\n '0.00']"
     },
     "metadata": {}
    },
    {
     "output_type": "display_data",
     "data": {
      "text/plain": "    req_count  req_count_prob\n0           0    5.509425e-01\n1           1    3.178938e-01\n2           2    1.018007e-01\n3           3    2.388720e-02\n4           4    4.582820e-03\n5           5    7.615546e-04\n6           6    1.135161e-04\n7           7    1.553257e-05\n8           8    1.982907e-06\n9           9    2.389975e-07\n10         10    2.744242e-08",
      "text/html": "<div>\n<style scoped>\n    .dataframe tbody tr th:only-of-type {\n        vertical-align: middle;\n    }\n\n    .dataframe tbody tr th {\n        vertical-align: top;\n    }\n\n    .dataframe thead th {\n        text-align: right;\n    }\n</style>\n<table border=\"1\" class=\"dataframe\">\n  <thead>\n    <tr style=\"text-align: right;\">\n      <th></th>\n      <th>req_count</th>\n      <th>req_count_prob</th>\n    </tr>\n  </thead>\n  <tbody>\n    <tr>\n      <th>0</th>\n      <td>0</td>\n      <td>5.509425e-01</td>\n    </tr>\n    <tr>\n      <th>1</th>\n      <td>1</td>\n      <td>3.178938e-01</td>\n    </tr>\n    <tr>\n      <th>2</th>\n      <td>2</td>\n      <td>1.018007e-01</td>\n    </tr>\n    <tr>\n      <th>3</th>\n      <td>3</td>\n      <td>2.388720e-02</td>\n    </tr>\n    <tr>\n      <th>4</th>\n      <td>4</td>\n      <td>4.582820e-03</td>\n    </tr>\n    <tr>\n      <th>5</th>\n      <td>5</td>\n      <td>7.615546e-04</td>\n    </tr>\n    <tr>\n      <th>6</th>\n      <td>6</td>\n      <td>1.135161e-04</td>\n    </tr>\n    <tr>\n      <th>7</th>\n      <td>7</td>\n      <td>1.553257e-05</td>\n    </tr>\n    <tr>\n      <th>8</th>\n      <td>8</td>\n      <td>1.982907e-06</td>\n    </tr>\n    <tr>\n      <th>9</th>\n      <td>9</td>\n      <td>2.389975e-07</td>\n    </tr>\n    <tr>\n      <th>10</th>\n      <td>10</td>\n      <td>2.744242e-08</td>\n    </tr>\n  </tbody>\n</table>\n</div>"
     },
     "metadata": {}
    },
    {
     "output_type": "stream",
     "name": "stdout",
     "text": [
      "Concurrency: 0.6161040935667044(avg) +- ?(std)\n"
     ]
    }
   ],
   "source": [
    "# update configuration dictionary\n",
    "def update_config(config):\n",
    "    config['arrival_rate_server'] = config['arrival_rate_total'] / config['instance_count']\n",
    "    config['base_service_time'] = config['base_service_time_ms'] / 1000\n",
    "\n",
    "# calculate Q for states\n",
    "def get_single_container_q(single_coder, config):\n",
    "    state_count = single_coder.get_state_count()\n",
    "    Q = np.zeros((state_count, state_count))\n",
    "\n",
    "    def encode_state(req_count):\n",
    "        return (req_count,)\n",
    "\n",
    "    # for each source state calculate rate of destination state\n",
    "    for from_state in single_coder.get_state_list():\n",
    "        from_state_idx = single_coder.to_idx(from_state)\n",
    "        # decode the state\n",
    "        (from_req_count, ) = from_state\n",
    "        # rate of exiting this state\n",
    "        exit_rate = 0\n",
    "        # one count below\n",
    "        if from_req_count > 0:\n",
    "            to_req_count = from_req_count - 1\n",
    "            to_state = encode_state(to_req_count)\n",
    "            to_state_idx = single_coder.to_idx(to_state)\n",
    "            Q[from_state_idx, to_state_idx] = from_req_count / (1+(from_req_count - 1)*config['alpha']) / config['base_service_time']\n",
    "            exit_rate += Q[from_state_idx, to_state_idx]\n",
    "        if from_req_count < config['max_conc']:\n",
    "            to_req_count = from_req_count + 1\n",
    "            to_state = encode_state(to_req_count)\n",
    "            to_state_idx = single_coder.to_idx(to_state)\n",
    "            Q[from_state_idx, to_state_idx] = config['arrival_rate_server']\n",
    "            exit_rate += Q[from_state_idx, to_state_idx]\n",
    "        \n",
    "        Q[from_state_idx, from_state_idx] = -1 * exit_rate\n",
    "\n",
    "    return Q\n",
    "\n",
    "def solve_CTMC(Q):\n",
    "    # solve CTMC for pi\n",
    "    state_count = Q.shape[0]\n",
    "    Q[:, 0] = 1\n",
    "    y = np.zeros((1, Q.shape[0]))\n",
    "    y[0, 0] = 1\n",
    "    solution = np.linalg.solve(np.array(Q.T), np.array(y.T))\n",
    "    solution = solution.reshape(solution.shape[0],)\n",
    "    solution[solution < 0] = 0\n",
    "    return solution\n",
    "\n",
    "\n",
    "######################################################\n",
    "# using the defined functions\n",
    "\n",
    "single_container_config = {\n",
    "    'instance_count': 10,\n",
    "    'max_conc': 10,\n",
    "    'arrival_rate_total': 5,\n",
    "    'alpha': 0.11,\n",
    "    'base_service_time_ms': 1154,\n",
    "}\n",
    "\n",
    "# update the config\n",
    "update_config(single_container_config)\n",
    "display(single_container_config)\n",
    "\n",
    "single_coder = single_model.StateCoder(config=single_container_config)\n",
    "\n",
    "# calculate and show Q\n",
    "Q = get_single_container_q(single_coder, config=single_container_config)\n",
    "display(pd.DataFrame(Q))\n",
    "\n",
    "req_count_prob = solve_CTMC(Q)\n",
    "# display solution for debug purposes\n",
    "display([f\"{s:4.2f}\" for s in req_count_prob])\n",
    "\n",
    "# calculate average and deviation\n",
    "req_df = pd.DataFrame(data = {\n",
    "    'req_count': [s[0] for s in single_coder.get_state_list()],\n",
    "    'req_count_prob': req_count_prob,\n",
    "})\n",
    "display(req_df)\n",
    "\n",
    "# calculate average concurrency\n",
    "req_count_avg = (req_df['req_count'] * req_df['req_count_prob']).sum()\n",
    "print(f\"Concurrency: {req_count_avg}(avg) +- ?(std)\")"
   ]
  },
  {
   "cell_type": "code",
   "execution_count": null,
   "metadata": {},
   "outputs": [],
   "source": []
  }
 ]
}